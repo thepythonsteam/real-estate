{
 "cells": [
  {
   "cell_type": "code",
   "execution_count": 117,
   "metadata": {},
   "outputs": [],
   "source": [
    "import pandas as pd\n",
    "from catboost import CatBoostRegressor\n",
    "from sklearn.metrics import mean_absolute_percentage_error\n",
    "from sklearn.model_selection import train_test_split\n",
    "from sklearn.model_selection import cross_val_score\n",
    "from sklearn.model_selection import KFold\n",
    "from catboost import Pool, cv\n",
    "from sklearn.model_selection import GridSearchCV\n",
    "\n",
    "from ast import literal_eval\n",
    "from tqdm.notebook import tqdm"
   ]
  },
  {
   "cell_type": "code",
   "execution_count": 118,
   "metadata": {},
   "outputs": [],
   "source": [
    "pd.set_option('display.max_columns', None)\n",
    "pd.set_option('display.max_rows', None)"
   ]
  },
  {
   "cell_type": "code",
   "execution_count": 119,
   "metadata": {},
   "outputs": [],
   "source": [
    "tqdm.pandas()"
   ]
  },
  {
   "cell_type": "code",
   "execution_count": 120,
   "metadata": {},
   "outputs": [],
   "source": [
    "def clear_floor(row):\n",
    "    try:\n",
    "        return float(row)\n",
    "    except:\n",
    "        return 0"
   ]
  },
  {
   "cell_type": "code",
   "execution_count": 121,
   "metadata": {},
   "outputs": [],
   "source": [
    "target = 'per_square_meter_price'"
   ]
  },
  {
   "cell_type": "code",
   "execution_count": 122,
   "metadata": {},
   "outputs": [
    {
     "name": "stderr",
     "output_type": "stream",
     "text": [
      "/Users/alitvintsev/env/lib/python3.8/site-packages/IPython/core/interactiveshell.py:3417: DtypeWarning: Columns (2) have mixed types.Specify dtype option on import or set low_memory=False.\n",
      "  exec(code_obj, self.user_global_ns, self.user_ns)\n"
     ]
    }
   ],
   "source": [
    "df_train = pd.read_csv('../real-estate/data/df_train_v5.csv', compression='zip')"
   ]
  },
  {
   "cell_type": "code",
   "execution_count": 123,
   "metadata": {},
   "outputs": [],
   "source": [
    "df_train = df_train.drop(columns='Unnamed: 0')"
   ]
  },
  {
   "cell_type": "code",
   "execution_count": 124,
   "metadata": {},
   "outputs": [],
   "source": [
    "df_train['floor_cor'] = df_train['floor'].fillna(0).apply(clear_floor).astype(int)\n",
    "\n",
    "df_train['street'] = df_train['street'].fillna('Unknown')\n",
    "df_train['region'] = df_train['region'].fillna('Unknown')\n",
    "df_train['city'] = df_train['city'].fillna('Unknown')\n",
    "df_train['realty_type'] = df_train['realty_type'].fillna('Unknown')\n",
    "df_train['osm_city_nearest_name'] = df_train['osm_city_nearest_name'].fillna('Unknown')"
   ]
  },
  {
   "cell_type": "code",
   "execution_count": 125,
   "metadata": {},
   "outputs": [
    {
     "data": {
      "text/html": [
       "<div>\n",
       "<style scoped>\n",
       "    .dataframe tbody tr th:only-of-type {\n",
       "        vertical-align: middle;\n",
       "    }\n",
       "\n",
       "    .dataframe tbody tr th {\n",
       "        vertical-align: top;\n",
       "    }\n",
       "\n",
       "    .dataframe thead th {\n",
       "        text-align: right;\n",
       "    }\n",
       "</style>\n",
       "<table border=\"1\" class=\"dataframe\">\n",
       "  <thead>\n",
       "    <tr style=\"text-align: right;\">\n",
       "      <th></th>\n",
       "      <th>floor</th>\n",
       "      <th>floor_cor</th>\n",
       "    </tr>\n",
       "  </thead>\n",
       "  <tbody>\n",
       "    <tr>\n",
       "      <th>279762</th>\n",
       "      <td>NaN</td>\n",
       "      <td>0</td>\n",
       "    </tr>\n",
       "    <tr>\n",
       "      <th>279763</th>\n",
       "      <td>1.0</td>\n",
       "      <td>1</td>\n",
       "    </tr>\n",
       "    <tr>\n",
       "      <th>279764</th>\n",
       "      <td>NaN</td>\n",
       "      <td>0</td>\n",
       "    </tr>\n",
       "    <tr>\n",
       "      <th>279765</th>\n",
       "      <td>1</td>\n",
       "      <td>1</td>\n",
       "    </tr>\n",
       "    <tr>\n",
       "      <th>279766</th>\n",
       "      <td>7</td>\n",
       "      <td>7</td>\n",
       "    </tr>\n",
       "    <tr>\n",
       "      <th>279767</th>\n",
       "      <td>1.0</td>\n",
       "      <td>1</td>\n",
       "    </tr>\n",
       "    <tr>\n",
       "      <th>279768</th>\n",
       "      <td>7</td>\n",
       "      <td>7</td>\n",
       "    </tr>\n",
       "    <tr>\n",
       "      <th>279769</th>\n",
       "      <td>7</td>\n",
       "      <td>7</td>\n",
       "    </tr>\n",
       "    <tr>\n",
       "      <th>279770</th>\n",
       "      <td>6</td>\n",
       "      <td>6</td>\n",
       "    </tr>\n",
       "    <tr>\n",
       "      <th>279771</th>\n",
       "      <td>6</td>\n",
       "      <td>6</td>\n",
       "    </tr>\n",
       "    <tr>\n",
       "      <th>279772</th>\n",
       "      <td>NaN</td>\n",
       "      <td>0</td>\n",
       "    </tr>\n",
       "    <tr>\n",
       "      <th>279773</th>\n",
       "      <td>1.0</td>\n",
       "      <td>1</td>\n",
       "    </tr>\n",
       "    <tr>\n",
       "      <th>279774</th>\n",
       "      <td>NaN</td>\n",
       "      <td>0</td>\n",
       "    </tr>\n",
       "    <tr>\n",
       "      <th>279775</th>\n",
       "      <td>1, подвал</td>\n",
       "      <td>0</td>\n",
       "    </tr>\n",
       "    <tr>\n",
       "      <th>279776</th>\n",
       "      <td>NaN</td>\n",
       "      <td>0</td>\n",
       "    </tr>\n",
       "    <tr>\n",
       "      <th>279777</th>\n",
       "      <td>NaN</td>\n",
       "      <td>0</td>\n",
       "    </tr>\n",
       "    <tr>\n",
       "      <th>279778</th>\n",
       "      <td>NaN</td>\n",
       "      <td>0</td>\n",
       "    </tr>\n",
       "    <tr>\n",
       "      <th>279779</th>\n",
       "      <td>1.0</td>\n",
       "      <td>1</td>\n",
       "    </tr>\n",
       "    <tr>\n",
       "      <th>279780</th>\n",
       "      <td>NaN</td>\n",
       "      <td>0</td>\n",
       "    </tr>\n",
       "    <tr>\n",
       "      <th>279781</th>\n",
       "      <td>NaN</td>\n",
       "      <td>0</td>\n",
       "    </tr>\n",
       "    <tr>\n",
       "      <th>279782</th>\n",
       "      <td>NaN</td>\n",
       "      <td>0</td>\n",
       "    </tr>\n",
       "    <tr>\n",
       "      <th>279783</th>\n",
       "      <td>1.0</td>\n",
       "      <td>1</td>\n",
       "    </tr>\n",
       "    <tr>\n",
       "      <th>279784</th>\n",
       "      <td>NaN</td>\n",
       "      <td>0</td>\n",
       "    </tr>\n",
       "    <tr>\n",
       "      <th>279785</th>\n",
       "      <td>NaN</td>\n",
       "      <td>0</td>\n",
       "    </tr>\n",
       "    <tr>\n",
       "      <th>279786</th>\n",
       "      <td>-1.0</td>\n",
       "      <td>-1</td>\n",
       "    </tr>\n",
       "    <tr>\n",
       "      <th>279787</th>\n",
       "      <td>1.0</td>\n",
       "      <td>1</td>\n",
       "    </tr>\n",
       "    <tr>\n",
       "      <th>279788</th>\n",
       "      <td>1.0</td>\n",
       "      <td>1</td>\n",
       "    </tr>\n",
       "    <tr>\n",
       "      <th>279789</th>\n",
       "      <td>3.0</td>\n",
       "      <td>3</td>\n",
       "    </tr>\n",
       "    <tr>\n",
       "      <th>279790</th>\n",
       "      <td>1.0</td>\n",
       "      <td>1</td>\n",
       "    </tr>\n",
       "    <tr>\n",
       "      <th>279791</th>\n",
       "      <td>1.0</td>\n",
       "      <td>1</td>\n",
       "    </tr>\n",
       "  </tbody>\n",
       "</table>\n",
       "</div>"
      ],
      "text/plain": [
       "            floor  floor_cor\n",
       "279762        NaN          0\n",
       "279763        1.0          1\n",
       "279764        NaN          0\n",
       "279765          1          1\n",
       "279766          7          7\n",
       "279767        1.0          1\n",
       "279768          7          7\n",
       "279769          7          7\n",
       "279770          6          6\n",
       "279771          6          6\n",
       "279772        NaN          0\n",
       "279773        1.0          1\n",
       "279774        NaN          0\n",
       "279775  1, подвал          0\n",
       "279776        NaN          0\n",
       "279777        NaN          0\n",
       "279778        NaN          0\n",
       "279779        1.0          1\n",
       "279780        NaN          0\n",
       "279781        NaN          0\n",
       "279782        NaN          0\n",
       "279783        1.0          1\n",
       "279784        NaN          0\n",
       "279785        NaN          0\n",
       "279786       -1.0         -1\n",
       "279787        1.0          1\n",
       "279788        1.0          1\n",
       "279789        3.0          3\n",
       "279790        1.0          1\n",
       "279791        1.0          1"
      ]
     },
     "execution_count": 125,
     "metadata": {},
     "output_type": "execute_result"
    }
   ],
   "source": [
    "df_train[['floor', 'floor_cor']].tail(n=30)"
   ]
  },
  {
   "cell_type": "code",
   "execution_count": 126,
   "metadata": {
    "scrolled": false
   },
   "outputs": [
    {
     "data": {
      "text/plain": [
       "1.0     70393\n",
       "2.0      7750\n",
       "-1.0     7738\n",
       "3.0      3516\n",
       "1.0      2478\n",
       "4.0      2194\n",
       "5.0      1387\n",
       "0.0       893\n",
       "-2.0      762\n",
       "6.0       673\n",
       "7.0       671\n",
       "1         442\n",
       "2.0       352\n",
       "8.0       340\n",
       "-1.0      327\n",
       "9.0       302\n",
       "10.0      238\n",
       "11.0      179\n",
       "3.0       166\n",
       "12.0      136\n",
       "Name: floor, dtype: int64"
      ]
     },
     "execution_count": 126,
     "metadata": {},
     "output_type": "execute_result"
    }
   ],
   "source": [
    "df_train['floor'].value_counts()[:20]"
   ]
  },
  {
   "cell_type": "code",
   "execution_count": 127,
   "metadata": {},
   "outputs": [],
   "source": [
    "df_train_rent = df_train[df_train['price_type'] == 0].reset_index(drop=True)"
   ]
  },
  {
   "cell_type": "code",
   "execution_count": 128,
   "metadata": {},
   "outputs": [
    {
     "data": {
      "text/plain": [
       "275299"
      ]
     },
     "execution_count": 128,
     "metadata": {},
     "output_type": "execute_result"
    }
   ],
   "source": [
    "df_train_rent.shape[0]"
   ]
  },
  {
   "cell_type": "code",
   "execution_count": 129,
   "metadata": {},
   "outputs": [],
   "source": [
    "df_train_bank = df_train[df_train['price_type'] == 1].reset_index(drop=True)"
   ]
  },
  {
   "cell_type": "code",
   "execution_count": 130,
   "metadata": {},
   "outputs": [
    {
     "data": {
      "text/plain": [
       "4493"
      ]
     },
     "execution_count": 130,
     "metadata": {},
     "output_type": "execute_result"
    }
   ],
   "source": [
    "df_train_bank.shape[0]"
   ]
  },
  {
   "cell_type": "code",
   "execution_count": 131,
   "metadata": {},
   "outputs": [
    {
     "data": {
      "text/plain": [
       "<AxesSubplot:ylabel='Frequency'>"
      ]
     },
     "execution_count": 131,
     "metadata": {},
     "output_type": "execute_result"
    },
    {
     "data": {
      "image/png": "[encoded data removed]",
      "text/plain": [
       "<Figure size 432x288 with 1 Axes>"
      ]
     },
     "metadata": {
      "needs_background": "light"
     },
     "output_type": "display_data"
    }
   ],
   "source": [
    "df_train_rent[target].plot(kind='hist')"
   ]
  },
  {
   "cell_type": "code",
   "execution_count": 132,
   "metadata": {},
   "outputs": [
    {
     "data": {
      "text/plain": [
       "1990000.0"
      ]
     },
     "execution_count": 132,
     "metadata": {},
     "output_type": "execute_result"
    }
   ],
   "source": [
    "df_train_rent[target].max()"
   ]
  },
  {
   "cell_type": "code",
   "execution_count": 133,
   "metadata": {},
   "outputs": [
    {
     "data": {
      "text/plain": [
       "384126.504773764"
      ]
     },
     "execution_count": 133,
     "metadata": {},
     "output_type": "execute_result"
    }
   ],
   "source": [
    "df_train_rent[target].quantile(.95)"
   ]
  },
  {
   "cell_type": "code",
   "execution_count": 134,
   "metadata": {},
   "outputs": [
    {
     "data": {
      "text/plain": [
       "60172.78617710584"
      ]
     },
     "execution_count": 134,
     "metadata": {},
     "output_type": "execute_result"
    }
   ],
   "source": [
    "df_train_rent[target].median()"
   ]
  },
  {
   "cell_type": "code",
   "execution_count": 135,
   "metadata": {},
   "outputs": [
    {
     "data": {
      "text/plain": [
       "389.6103896103896"
      ]
     },
     "execution_count": 135,
     "metadata": {},
     "output_type": "execute_result"
    }
   ],
   "source": [
    "df_train_rent[target].min()"
   ]
  },
  {
   "cell_type": "markdown",
   "metadata": {},
   "source": [
    "### 1. Обучаем модель на объявлениях"
   ]
  },
  {
   "cell_type": "code",
   "execution_count": 136,
   "metadata": {},
   "outputs": [],
   "source": [
    "to_drop = [target, 'id', 'date', 'floor']"
   ]
  },
  {
   "cell_type": "code",
   "execution_count": 137,
   "metadata": {},
   "outputs": [],
   "source": [
    "X = df_train_rent.drop(columns=to_drop)\n",
    "y = df_train_rent[target]\n",
    "X_train, X_test, y_train, y_test = train_test_split(X, y, test_size=0.2, random_state=42)"
   ]
  },
  {
   "cell_type": "code",
   "execution_count": 138,
   "metadata": {},
   "outputs": [
    {
     "data": {
      "text/html": [
       "<div>\n",
       "<style scoped>\n",
       "    .dataframe tbody tr th:only-of-type {\n",
       "        vertical-align: middle;\n",
       "    }\n",
       "\n",
       "    .dataframe tbody tr th {\n",
       "        vertical-align: top;\n",
       "    }\n",
       "\n",
       "    .dataframe thead th {\n",
       "        text-align: right;\n",
       "    }\n",
       "</style>\n",
       "<table border=\"1\" class=\"dataframe\">\n",
       "  <thead>\n",
       "    <tr style=\"text-align: right;\">\n",
       "      <th></th>\n",
       "      <th>city</th>\n",
       "      <th>lat</th>\n",
       "      <th>lng</th>\n",
       "      <th>osm_amenity_points_in_0.001</th>\n",
       "      <th>osm_amenity_points_in_0.005</th>\n",
       "      <th>osm_amenity_points_in_0.0075</th>\n",
       "      <th>osm_amenity_points_in_0.01</th>\n",
       "      <th>osm_building_points_in_0.001</th>\n",
       "      <th>osm_building_points_in_0.005</th>\n",
       "      <th>osm_building_points_in_0.0075</th>\n",
       "      <th>osm_building_points_in_0.01</th>\n",
       "      <th>osm_catering_points_in_0.001</th>\n",
       "      <th>osm_catering_points_in_0.005</th>\n",
       "      <th>osm_catering_points_in_0.0075</th>\n",
       "      <th>osm_catering_points_in_0.01</th>\n",
       "      <th>osm_city_closest_dist</th>\n",
       "      <th>osm_city_nearest_name</th>\n",
       "      <th>osm_city_nearest_population</th>\n",
       "      <th>osm_crossing_closest_dist</th>\n",
       "      <th>osm_crossing_points_in_0.001</th>\n",
       "      <th>osm_crossing_points_in_0.005</th>\n",
       "      <th>osm_crossing_points_in_0.0075</th>\n",
       "      <th>osm_crossing_points_in_0.01</th>\n",
       "      <th>osm_culture_points_in_0.001</th>\n",
       "      <th>osm_culture_points_in_0.005</th>\n",
       "      <th>osm_culture_points_in_0.0075</th>\n",
       "      <th>osm_culture_points_in_0.01</th>\n",
       "      <th>osm_finance_points_in_0.001</th>\n",
       "      <th>osm_finance_points_in_0.005</th>\n",
       "      <th>osm_finance_points_in_0.0075</th>\n",
       "      <th>osm_finance_points_in_0.01</th>\n",
       "      <th>osm_healthcare_points_in_0.005</th>\n",
       "      <th>osm_healthcare_points_in_0.0075</th>\n",
       "      <th>osm_healthcare_points_in_0.01</th>\n",
       "      <th>osm_historic_points_in_0.005</th>\n",
       "      <th>osm_historic_points_in_0.0075</th>\n",
       "      <th>osm_historic_points_in_0.01</th>\n",
       "      <th>osm_hotels_points_in_0.005</th>\n",
       "      <th>osm_hotels_points_in_0.0075</th>\n",
       "      <th>osm_hotels_points_in_0.01</th>\n",
       "      <th>osm_leisure_points_in_0.005</th>\n",
       "      <th>osm_leisure_points_in_0.0075</th>\n",
       "      <th>osm_leisure_points_in_0.01</th>\n",
       "      <th>osm_offices_points_in_0.001</th>\n",
       "      <th>osm_offices_points_in_0.005</th>\n",
       "      <th>osm_offices_points_in_0.0075</th>\n",
       "      <th>osm_offices_points_in_0.01</th>\n",
       "      <th>osm_shops_points_in_0.001</th>\n",
       "      <th>osm_shops_points_in_0.005</th>\n",
       "      <th>osm_shops_points_in_0.0075</th>\n",
       "      <th>osm_shops_points_in_0.01</th>\n",
       "      <th>osm_subway_closest_dist</th>\n",
       "      <th>osm_train_stop_closest_dist</th>\n",
       "      <th>osm_train_stop_points_in_0.005</th>\n",
       "      <th>osm_train_stop_points_in_0.0075</th>\n",
       "      <th>osm_train_stop_points_in_0.01</th>\n",
       "      <th>osm_transport_stop_closest_dist</th>\n",
       "      <th>osm_transport_stop_points_in_0.005</th>\n",
       "      <th>osm_transport_stop_points_in_0.0075</th>\n",
       "      <th>osm_transport_stop_points_in_0.01</th>\n",
       "      <th>reform_count_of_houses_1000</th>\n",
       "      <th>reform_count_of_houses_500</th>\n",
       "      <th>reform_house_population_1000</th>\n",
       "      <th>reform_house_population_500</th>\n",
       "      <th>reform_mean_floor_count_1000</th>\n",
       "      <th>reform_mean_floor_count_500</th>\n",
       "      <th>reform_mean_year_building_1000</th>\n",
       "      <th>reform_mean_year_building_500</th>\n",
       "      <th>region</th>\n",
       "      <th>total_square</th>\n",
       "      <th>street</th>\n",
       "      <th>realty_type</th>\n",
       "      <th>price_type</th>\n",
       "      <th>avg_salary_12_2020</th>\n",
       "      <th>cnt_active_company</th>\n",
       "      <th>population</th>\n",
       "      <th>2_quarter_2019_flat_price</th>\n",
       "      <th>3_quarter_2019_flat_price</th>\n",
       "      <th>4_quarter_2019_flat_price</th>\n",
       "      <th>1_quarter_2020_flat_price</th>\n",
       "      <th>salary_per_life_min</th>\n",
       "      <th>min_month_food_price</th>\n",
       "      <th>price_building_materials_12_19</th>\n",
       "      <th>price_building_materials_01_20</th>\n",
       "      <th>price_building_materials_02_20</th>\n",
       "      <th>price_building_materials_03_20</th>\n",
       "      <th>floor_cor</th>\n",
       "    </tr>\n",
       "  </thead>\n",
       "  <tbody>\n",
       "    <tr>\n",
       "      <th>178256</th>\n",
       "      <td>Москва</td>\n",
       "      <td>55.886710</td>\n",
       "      <td>37.659416</td>\n",
       "      <td>15</td>\n",
       "      <td>77</td>\n",
       "      <td>100</td>\n",
       "      <td>127</td>\n",
       "      <td>0</td>\n",
       "      <td>2</td>\n",
       "      <td>2</td>\n",
       "      <td>3</td>\n",
       "      <td>2</td>\n",
       "      <td>10</td>\n",
       "      <td>10</td>\n",
       "      <td>11</td>\n",
       "      <td>5.293286</td>\n",
       "      <td>Мытищи</td>\n",
       "      <td>187119.0</td>\n",
       "      <td>0.040087</td>\n",
       "      <td>2</td>\n",
       "      <td>49</td>\n",
       "      <td>76</td>\n",
       "      <td>97</td>\n",
       "      <td>0</td>\n",
       "      <td>0</td>\n",
       "      <td>0</td>\n",
       "      <td>0</td>\n",
       "      <td>2</td>\n",
       "      <td>6</td>\n",
       "      <td>7</td>\n",
       "      <td>9</td>\n",
       "      <td>1</td>\n",
       "      <td>3</td>\n",
       "      <td>4</td>\n",
       "      <td>0</td>\n",
       "      <td>0</td>\n",
       "      <td>0</td>\n",
       "      <td>0</td>\n",
       "      <td>0</td>\n",
       "      <td>0</td>\n",
       "      <td>7</td>\n",
       "      <td>15</td>\n",
       "      <td>23</td>\n",
       "      <td>0</td>\n",
       "      <td>3</td>\n",
       "      <td>4</td>\n",
       "      <td>5</td>\n",
       "      <td>11</td>\n",
       "      <td>57</td>\n",
       "      <td>69</td>\n",
       "      <td>83</td>\n",
       "      <td>0.136538</td>\n",
       "      <td>3.049315</td>\n",
       "      <td>0</td>\n",
       "      <td>0</td>\n",
       "      <td>0</td>\n",
       "      <td>0.117154</td>\n",
       "      <td>58</td>\n",
       "      <td>65</td>\n",
       "      <td>75</td>\n",
       "      <td>125</td>\n",
       "      <td>38</td>\n",
       "      <td>4433.0</td>\n",
       "      <td>1419.0</td>\n",
       "      <td>13.620968</td>\n",
       "      <td>14.421053</td>\n",
       "      <td>1983.928000</td>\n",
       "      <td>1985.842105</td>\n",
       "      <td>Москва</td>\n",
       "      <td>340.0</td>\n",
       "      <td>S28704</td>\n",
       "      <td>10</td>\n",
       "      <td>0</td>\n",
       "      <td>113988.044078</td>\n",
       "      <td>773098.0</td>\n",
       "      <td>12615279.0</td>\n",
       "      <td>195087.57</td>\n",
       "      <td>198230.93</td>\n",
       "      <td>203189.99</td>\n",
       "      <td>214278.63</td>\n",
       "      <td>543.3</td>\n",
       "      <td>4985.73</td>\n",
       "      <td>24071.31</td>\n",
       "      <td>26074.29</td>\n",
       "      <td>26909.85</td>\n",
       "      <td>28079.74</td>\n",
       "      <td>1</td>\n",
       "    </tr>\n",
       "    <tr>\n",
       "      <th>145463</th>\n",
       "      <td>Пушкино</td>\n",
       "      <td>56.015410</td>\n",
       "      <td>37.850315</td>\n",
       "      <td>3</td>\n",
       "      <td>29</td>\n",
       "      <td>71</td>\n",
       "      <td>106</td>\n",
       "      <td>0</td>\n",
       "      <td>0</td>\n",
       "      <td>0</td>\n",
       "      <td>0</td>\n",
       "      <td>0</td>\n",
       "      <td>2</td>\n",
       "      <td>10</td>\n",
       "      <td>11</td>\n",
       "      <td>0.610707</td>\n",
       "      <td>Пушкино</td>\n",
       "      <td>108253.0</td>\n",
       "      <td>0.254213</td>\n",
       "      <td>0</td>\n",
       "      <td>7</td>\n",
       "      <td>17</td>\n",
       "      <td>31</td>\n",
       "      <td>0</td>\n",
       "      <td>0</td>\n",
       "      <td>1</td>\n",
       "      <td>1</td>\n",
       "      <td>0</td>\n",
       "      <td>2</td>\n",
       "      <td>4</td>\n",
       "      <td>8</td>\n",
       "      <td>1</td>\n",
       "      <td>1</td>\n",
       "      <td>3</td>\n",
       "      <td>0</td>\n",
       "      <td>3</td>\n",
       "      <td>3</td>\n",
       "      <td>0</td>\n",
       "      <td>0</td>\n",
       "      <td>1</td>\n",
       "      <td>3</td>\n",
       "      <td>7</td>\n",
       "      <td>8</td>\n",
       "      <td>0</td>\n",
       "      <td>1</td>\n",
       "      <td>3</td>\n",
       "      <td>6</td>\n",
       "      <td>3</td>\n",
       "      <td>20</td>\n",
       "      <td>43</td>\n",
       "      <td>69</td>\n",
       "      <td>23.145459</td>\n",
       "      <td>0.636940</td>\n",
       "      <td>0</td>\n",
       "      <td>0</td>\n",
       "      <td>1</td>\n",
       "      <td>0.617874</td>\n",
       "      <td>0</td>\n",
       "      <td>7</td>\n",
       "      <td>15</td>\n",
       "      <td>115</td>\n",
       "      <td>30</td>\n",
       "      <td>2746.0</td>\n",
       "      <td>903.0</td>\n",
       "      <td>7.097345</td>\n",
       "      <td>8.892857</td>\n",
       "      <td>1974.654867</td>\n",
       "      <td>1979.321429</td>\n",
       "      <td>Московская область</td>\n",
       "      <td>68.0</td>\n",
       "      <td>S1370</td>\n",
       "      <td>10</td>\n",
       "      <td>0</td>\n",
       "      <td>63911.998366</td>\n",
       "      <td>175481.0</td>\n",
       "      <td>7599647.0</td>\n",
       "      <td>85403.58</td>\n",
       "      <td>88683.23</td>\n",
       "      <td>88486.09</td>\n",
       "      <td>88422.63</td>\n",
       "      <td>436.1</td>\n",
       "      <td>4274.15</td>\n",
       "      <td>74054.98</td>\n",
       "      <td>24762.03</td>\n",
       "      <td>20819.75</td>\n",
       "      <td>13254.94</td>\n",
       "      <td>-1</td>\n",
       "    </tr>\n",
       "    <tr>\n",
       "      <th>167127</th>\n",
       "      <td>Новосибирск</td>\n",
       "      <td>55.023926</td>\n",
       "      <td>82.948280</td>\n",
       "      <td>0</td>\n",
       "      <td>4</td>\n",
       "      <td>18</td>\n",
       "      <td>42</td>\n",
       "      <td>0</td>\n",
       "      <td>0</td>\n",
       "      <td>0</td>\n",
       "      <td>0</td>\n",
       "      <td>0</td>\n",
       "      <td>0</td>\n",
       "      <td>1</td>\n",
       "      <td>1</td>\n",
       "      <td>1.653427</td>\n",
       "      <td>Новосибирск</td>\n",
       "      <td>1625600.0</td>\n",
       "      <td>0.156835</td>\n",
       "      <td>0</td>\n",
       "      <td>1</td>\n",
       "      <td>2</td>\n",
       "      <td>23</td>\n",
       "      <td>0</td>\n",
       "      <td>0</td>\n",
       "      <td>0</td>\n",
       "      <td>1</td>\n",
       "      <td>0</td>\n",
       "      <td>0</td>\n",
       "      <td>1</td>\n",
       "      <td>2</td>\n",
       "      <td>0</td>\n",
       "      <td>4</td>\n",
       "      <td>4</td>\n",
       "      <td>0</td>\n",
       "      <td>0</td>\n",
       "      <td>2</td>\n",
       "      <td>0</td>\n",
       "      <td>1</td>\n",
       "      <td>1</td>\n",
       "      <td>1</td>\n",
       "      <td>1</td>\n",
       "      <td>4</td>\n",
       "      <td>0</td>\n",
       "      <td>1</td>\n",
       "      <td>1</td>\n",
       "      <td>2</td>\n",
       "      <td>0</td>\n",
       "      <td>1</td>\n",
       "      <td>8</td>\n",
       "      <td>25</td>\n",
       "      <td>0.803057</td>\n",
       "      <td>1.688548</td>\n",
       "      <td>0</td>\n",
       "      <td>0</td>\n",
       "      <td>0</td>\n",
       "      <td>0.820306</td>\n",
       "      <td>0</td>\n",
       "      <td>0</td>\n",
       "      <td>10</td>\n",
       "      <td>74</td>\n",
       "      <td>15</td>\n",
       "      <td>2165.0</td>\n",
       "      <td>517.0</td>\n",
       "      <td>9.579710</td>\n",
       "      <td>16.750000</td>\n",
       "      <td>1974.142857</td>\n",
       "      <td>2003.692308</td>\n",
       "      <td>Новосибирская область</td>\n",
       "      <td>172.0</td>\n",
       "      <td>S13409</td>\n",
       "      <td>10</td>\n",
       "      <td>0</td>\n",
       "      <td>43693.250108</td>\n",
       "      <td>101154.0</td>\n",
       "      <td>2793384.0</td>\n",
       "      <td>55836.25</td>\n",
       "      <td>56312.96</td>\n",
       "      <td>58709.50</td>\n",
       "      <td>55764.86</td>\n",
       "      <td>360.2</td>\n",
       "      <td>4195.02</td>\n",
       "      <td>0.00</td>\n",
       "      <td>124523.24</td>\n",
       "      <td>96488.59</td>\n",
       "      <td>0.00</td>\n",
       "      <td>0</td>\n",
       "    </tr>\n",
       "    <tr>\n",
       "      <th>255015</th>\n",
       "      <td>Краснодар</td>\n",
       "      <td>45.066704</td>\n",
       "      <td>38.925114</td>\n",
       "      <td>3</td>\n",
       "      <td>4</td>\n",
       "      <td>13</td>\n",
       "      <td>29</td>\n",
       "      <td>0</td>\n",
       "      <td>7</td>\n",
       "      <td>16</td>\n",
       "      <td>22</td>\n",
       "      <td>0</td>\n",
       "      <td>0</td>\n",
       "      <td>3</td>\n",
       "      <td>5</td>\n",
       "      <td>5.341228</td>\n",
       "      <td>Краснодар</td>\n",
       "      <td>1405000.0</td>\n",
       "      <td>0.339552</td>\n",
       "      <td>0</td>\n",
       "      <td>2</td>\n",
       "      <td>20</td>\n",
       "      <td>29</td>\n",
       "      <td>0</td>\n",
       "      <td>1</td>\n",
       "      <td>1</td>\n",
       "      <td>2</td>\n",
       "      <td>0</td>\n",
       "      <td>0</td>\n",
       "      <td>2</td>\n",
       "      <td>3</td>\n",
       "      <td>0</td>\n",
       "      <td>0</td>\n",
       "      <td>1</td>\n",
       "      <td>0</td>\n",
       "      <td>0</td>\n",
       "      <td>0</td>\n",
       "      <td>0</td>\n",
       "      <td>0</td>\n",
       "      <td>0</td>\n",
       "      <td>0</td>\n",
       "      <td>0</td>\n",
       "      <td>1</td>\n",
       "      <td>0</td>\n",
       "      <td>0</td>\n",
       "      <td>1</td>\n",
       "      <td>1</td>\n",
       "      <td>3</td>\n",
       "      <td>3</td>\n",
       "      <td>8</td>\n",
       "      <td>19</td>\n",
       "      <td>339.700604</td>\n",
       "      <td>7.553531</td>\n",
       "      <td>0</td>\n",
       "      <td>0</td>\n",
       "      <td>0</td>\n",
       "      <td>0.091138</td>\n",
       "      <td>8</td>\n",
       "      <td>18</td>\n",
       "      <td>25</td>\n",
       "      <td>112</td>\n",
       "      <td>59</td>\n",
       "      <td>1647.0</td>\n",
       "      <td>667.0</td>\n",
       "      <td>4.438776</td>\n",
       "      <td>3.627451</td>\n",
       "      <td>1970.320388</td>\n",
       "      <td>1965.592593</td>\n",
       "      <td>Краснодарский край</td>\n",
       "      <td>80.0</td>\n",
       "      <td>S24059</td>\n",
       "      <td>110</td>\n",
       "      <td>0</td>\n",
       "      <td>40807.450388</td>\n",
       "      <td>11256.0</td>\n",
       "      <td>5648235.0</td>\n",
       "      <td>48318.72</td>\n",
       "      <td>51935.13</td>\n",
       "      <td>52551.61</td>\n",
       "      <td>51820.01</td>\n",
       "      <td>336.5</td>\n",
       "      <td>4224.72</td>\n",
       "      <td>39994.10</td>\n",
       "      <td>41046.57</td>\n",
       "      <td>38598.94</td>\n",
       "      <td>0.00</td>\n",
       "      <td>1</td>\n",
       "    </tr>\n",
       "    <tr>\n",
       "      <th>185642</th>\n",
       "      <td>Москва</td>\n",
       "      <td>55.836403</td>\n",
       "      <td>37.428730</td>\n",
       "      <td>1</td>\n",
       "      <td>3</td>\n",
       "      <td>9</td>\n",
       "      <td>37</td>\n",
       "      <td>0</td>\n",
       "      <td>0</td>\n",
       "      <td>0</td>\n",
       "      <td>1</td>\n",
       "      <td>0</td>\n",
       "      <td>0</td>\n",
       "      <td>0</td>\n",
       "      <td>1</td>\n",
       "      <td>5.968940</td>\n",
       "      <td>Химки</td>\n",
       "      <td>232066.0</td>\n",
       "      <td>0.622054</td>\n",
       "      <td>0</td>\n",
       "      <td>0</td>\n",
       "      <td>2</td>\n",
       "      <td>20</td>\n",
       "      <td>0</td>\n",
       "      <td>0</td>\n",
       "      <td>0</td>\n",
       "      <td>1</td>\n",
       "      <td>0</td>\n",
       "      <td>0</td>\n",
       "      <td>0</td>\n",
       "      <td>0</td>\n",
       "      <td>0</td>\n",
       "      <td>0</td>\n",
       "      <td>4</td>\n",
       "      <td>0</td>\n",
       "      <td>0</td>\n",
       "      <td>1</td>\n",
       "      <td>0</td>\n",
       "      <td>0</td>\n",
       "      <td>1</td>\n",
       "      <td>1</td>\n",
       "      <td>1</td>\n",
       "      <td>2</td>\n",
       "      <td>1</td>\n",
       "      <td>2</td>\n",
       "      <td>3</td>\n",
       "      <td>5</td>\n",
       "      <td>1</td>\n",
       "      <td>2</td>\n",
       "      <td>4</td>\n",
       "      <td>22</td>\n",
       "      <td>1.213471</td>\n",
       "      <td>1.298345</td>\n",
       "      <td>0</td>\n",
       "      <td>0</td>\n",
       "      <td>0</td>\n",
       "      <td>0.491823</td>\n",
       "      <td>0</td>\n",
       "      <td>1</td>\n",
       "      <td>11</td>\n",
       "      <td>63</td>\n",
       "      <td>0</td>\n",
       "      <td>1247.0</td>\n",
       "      <td>NaN</td>\n",
       "      <td>7.952381</td>\n",
       "      <td>NaN</td>\n",
       "      <td>1967.761905</td>\n",
       "      <td>NaN</td>\n",
       "      <td>Москва</td>\n",
       "      <td>2350.0</td>\n",
       "      <td>S25171</td>\n",
       "      <td>10</td>\n",
       "      <td>0</td>\n",
       "      <td>113988.044078</td>\n",
       "      <td>773098.0</td>\n",
       "      <td>12615279.0</td>\n",
       "      <td>195087.57</td>\n",
       "      <td>198230.93</td>\n",
       "      <td>203189.99</td>\n",
       "      <td>214278.63</td>\n",
       "      <td>543.3</td>\n",
       "      <td>4985.73</td>\n",
       "      <td>24071.31</td>\n",
       "      <td>26074.29</td>\n",
       "      <td>26909.85</td>\n",
       "      <td>28079.74</td>\n",
       "      <td>0</td>\n",
       "    </tr>\n",
       "  </tbody>\n",
       "</table>\n",
       "</div>"
      ],
      "text/plain": [
       "               city        lat        lng  osm_amenity_points_in_0.001  \\\n",
       "178256       Москва  55.886710  37.659416                           15   \n",
       "145463      Пушкино  56.015410  37.850315                            3   \n",
       "167127  Новосибирск  55.023926  82.948280                            0   \n",
       "255015    Краснодар  45.066704  38.925114                            3   \n",
       "185642       Москва  55.836403  37.428730                            1   \n",
       "\n",
       "        osm_amenity_points_in_0.005  osm_amenity_points_in_0.0075  \\\n",
       "178256                           77                           100   \n",
       "145463                           29                            71   \n",
       "167127                            4                            18   \n",
       "255015                            4                            13   \n",
       "185642                            3                             9   \n",
       "\n",
       "        osm_amenity_points_in_0.01  osm_building_points_in_0.001  \\\n",
       "178256                         127                             0   \n",
       "145463                         106                             0   \n",
       "167127                          42                             0   \n",
       "255015                          29                             0   \n",
       "185642                          37                             0   \n",
       "\n",
       "        osm_building_points_in_0.005  osm_building_points_in_0.0075  \\\n",
       "178256                             2                              2   \n",
       "145463                             0                              0   \n",
       "167127                             0                              0   \n",
       "255015                             7                             16   \n",
       "185642                             0                              0   \n",
       "\n",
       "        osm_building_points_in_0.01  osm_catering_points_in_0.001  \\\n",
       "178256                            3                             2   \n",
       "145463                            0                             0   \n",
       "167127                            0                             0   \n",
       "255015                           22                             0   \n",
       "185642                            1                             0   \n",
       "\n",
       "        osm_catering_points_in_0.005  osm_catering_points_in_0.0075  \\\n",
       "178256                            10                             10   \n",
       "145463                             2                             10   \n",
       "167127                             0                              1   \n",
       "255015                             0                              3   \n",
       "185642                             0                              0   \n",
       "\n",
       "        osm_catering_points_in_0.01  osm_city_closest_dist  \\\n",
       "178256                           11               5.293286   \n",
       "145463                           11               0.610707   \n",
       "167127                            1               1.653427   \n",
       "255015                            5               5.341228   \n",
       "185642                            1               5.968940   \n",
       "\n",
       "       osm_city_nearest_name  osm_city_nearest_population  \\\n",
       "178256                Мытищи                     187119.0   \n",
       "145463               Пушкино                     108253.0   \n",
       "167127           Новосибирск                    1625600.0   \n",
       "255015             Краснодар                    1405000.0   \n",
       "185642                 Химки                     232066.0   \n",
       "\n",
       "        osm_crossing_closest_dist  osm_crossing_points_in_0.001  \\\n",
       "178256                   0.040087                             2   \n",
       "145463                   0.254213                             0   \n",
       "167127                   0.156835                             0   \n",
       "255015                   0.339552                             0   \n",
       "185642                   0.622054                             0   \n",
       "\n",
       "        osm_crossing_points_in_0.005  osm_crossing_points_in_0.0075  \\\n",
       "178256                            49                             76   \n",
       "145463                             7                             17   \n",
       "167127                             1                              2   \n",
       "255015                             2                             20   \n",
       "185642                             0                              2   \n",
       "\n",
       "        osm_crossing_points_in_0.01  osm_culture_points_in_0.001  \\\n",
       "178256                           97                            0   \n",
       "145463                           31                            0   \n",
       "167127                           23                            0   \n",
       "255015                           29                            0   \n",
       "185642                           20                            0   \n",
       "\n",
       "        osm_culture_points_in_0.005  osm_culture_points_in_0.0075  \\\n",
       "178256                            0                             0   \n",
       "145463                            0                             1   \n",
       "167127                            0                             0   \n",
       "255015                            1                             1   \n",
       "185642                            0                             0   \n",
       "\n",
       "        osm_culture_points_in_0.01  osm_finance_points_in_0.001  \\\n",
       "178256                           0                            2   \n",
       "145463                           1                            0   \n",
       "167127                           1                            0   \n",
       "255015                           2                            0   \n",
       "185642                           1                            0   \n",
       "\n",
       "        osm_finance_points_in_0.005  osm_finance_points_in_0.0075  \\\n",
       "178256                            6                             7   \n",
       "145463                            2                             4   \n",
       "167127                            0                             1   \n",
       "255015                            0                             2   \n",
       "185642                            0                             0   \n",
       "\n",
       "        osm_finance_points_in_0.01  osm_healthcare_points_in_0.005  \\\n",
       "178256                           9                               1   \n",
       "145463                           8                               1   \n",
       "167127                           2                               0   \n",
       "255015                           3                               0   \n",
       "185642                           0                               0   \n",
       "\n",
       "        osm_healthcare_points_in_0.0075  osm_healthcare_points_in_0.01  \\\n",
       "178256                                3                              4   \n",
       "145463                                1                              3   \n",
       "167127                                4                              4   \n",
       "255015                                0                              1   \n",
       "185642                                0                              4   \n",
       "\n",
       "        osm_historic_points_in_0.005  osm_historic_points_in_0.0075  \\\n",
       "178256                             0                              0   \n",
       "145463                             0                              3   \n",
       "167127                             0                              0   \n",
       "255015                             0                              0   \n",
       "185642                             0                              0   \n",
       "\n",
       "        osm_historic_points_in_0.01  osm_hotels_points_in_0.005  \\\n",
       "178256                            0                           0   \n",
       "145463                            3                           0   \n",
       "167127                            2                           0   \n",
       "255015                            0                           0   \n",
       "185642                            1                           0   \n",
       "\n",
       "        osm_hotels_points_in_0.0075  osm_hotels_points_in_0.01  \\\n",
       "178256                            0                          0   \n",
       "145463                            0                          1   \n",
       "167127                            1                          1   \n",
       "255015                            0                          0   \n",
       "185642                            0                          1   \n",
       "\n",
       "        osm_leisure_points_in_0.005  osm_leisure_points_in_0.0075  \\\n",
       "178256                            7                            15   \n",
       "145463                            3                             7   \n",
       "167127                            1                             1   \n",
       "255015                            0                             0   \n",
       "185642                            1                             1   \n",
       "\n",
       "        osm_leisure_points_in_0.01  osm_offices_points_in_0.001  \\\n",
       "178256                          23                            0   \n",
       "145463                           8                            0   \n",
       "167127                           4                            0   \n",
       "255015                           1                            0   \n",
       "185642                           2                            1   \n",
       "\n",
       "        osm_offices_points_in_0.005  osm_offices_points_in_0.0075  \\\n",
       "178256                            3                             4   \n",
       "145463                            1                             3   \n",
       "167127                            1                             1   \n",
       "255015                            0                             1   \n",
       "185642                            2                             3   \n",
       "\n",
       "        osm_offices_points_in_0.01  osm_shops_points_in_0.001  \\\n",
       "178256                           5                         11   \n",
       "145463                           6                          3   \n",
       "167127                           2                          0   \n",
       "255015                           1                          3   \n",
       "185642                           5                          1   \n",
       "\n",
       "        osm_shops_points_in_0.005  osm_shops_points_in_0.0075  \\\n",
       "178256                         57                          69   \n",
       "145463                         20                          43   \n",
       "167127                          1                           8   \n",
       "255015                          3                           8   \n",
       "185642                          2                           4   \n",
       "\n",
       "        osm_shops_points_in_0.01  osm_subway_closest_dist  \\\n",
       "178256                        83                 0.136538   \n",
       "145463                        69                23.145459   \n",
       "167127                        25                 0.803057   \n",
       "255015                        19               339.700604   \n",
       "185642                        22                 1.213471   \n",
       "\n",
       "        osm_train_stop_closest_dist  osm_train_stop_points_in_0.005  \\\n",
       "178256                     3.049315                               0   \n",
       "145463                     0.636940                               0   \n",
       "167127                     1.688548                               0   \n",
       "255015                     7.553531                               0   \n",
       "185642                     1.298345                               0   \n",
       "\n",
       "        osm_train_stop_points_in_0.0075  osm_train_stop_points_in_0.01  \\\n",
       "178256                                0                              0   \n",
       "145463                                0                              1   \n",
       "167127                                0                              0   \n",
       "255015                                0                              0   \n",
       "185642                                0                              0   \n",
       "\n",
       "        osm_transport_stop_closest_dist  osm_transport_stop_points_in_0.005  \\\n",
       "178256                         0.117154                                  58   \n",
       "145463                         0.617874                                   0   \n",
       "167127                         0.820306                                   0   \n",
       "255015                         0.091138                                   8   \n",
       "185642                         0.491823                                   0   \n",
       "\n",
       "        osm_transport_stop_points_in_0.0075  \\\n",
       "178256                                   65   \n",
       "145463                                    7   \n",
       "167127                                    0   \n",
       "255015                                   18   \n",
       "185642                                    1   \n",
       "\n",
       "        osm_transport_stop_points_in_0.01  reform_count_of_houses_1000  \\\n",
       "178256                                 75                          125   \n",
       "145463                                 15                          115   \n",
       "167127                                 10                           74   \n",
       "255015                                 25                          112   \n",
       "185642                                 11                           63   \n",
       "\n",
       "        reform_count_of_houses_500  reform_house_population_1000  \\\n",
       "178256                          38                        4433.0   \n",
       "145463                          30                        2746.0   \n",
       "167127                          15                        2165.0   \n",
       "255015                          59                        1647.0   \n",
       "185642                           0                        1247.0   \n",
       "\n",
       "        reform_house_population_500  reform_mean_floor_count_1000  \\\n",
       "178256                       1419.0                     13.620968   \n",
       "145463                        903.0                      7.097345   \n",
       "167127                        517.0                      9.579710   \n",
       "255015                        667.0                      4.438776   \n",
       "185642                          NaN                      7.952381   \n",
       "\n",
       "        reform_mean_floor_count_500  reform_mean_year_building_1000  \\\n",
       "178256                    14.421053                     1983.928000   \n",
       "145463                     8.892857                     1974.654867   \n",
       "167127                    16.750000                     1974.142857   \n",
       "255015                     3.627451                     1970.320388   \n",
       "185642                          NaN                     1967.761905   \n",
       "\n",
       "        reform_mean_year_building_500                 region  total_square  \\\n",
       "178256                    1985.842105                 Москва         340.0   \n",
       "145463                    1979.321429     Московская область          68.0   \n",
       "167127                    2003.692308  Новосибирская область         172.0   \n",
       "255015                    1965.592593     Краснодарский край          80.0   \n",
       "185642                            NaN                 Москва        2350.0   \n",
       "\n",
       "        street  realty_type  price_type  avg_salary_12_2020  \\\n",
       "178256  S28704           10           0       113988.044078   \n",
       "145463   S1370           10           0        63911.998366   \n",
       "167127  S13409           10           0        43693.250108   \n",
       "255015  S24059          110           0        40807.450388   \n",
       "185642  S25171           10           0       113988.044078   \n",
       "\n",
       "        cnt_active_company  population  2_quarter_2019_flat_price  \\\n",
       "178256            773098.0  12615279.0                  195087.57   \n",
       "145463            175481.0   7599647.0                   85403.58   \n",
       "167127            101154.0   2793384.0                   55836.25   \n",
       "255015             11256.0   5648235.0                   48318.72   \n",
       "185642            773098.0  12615279.0                  195087.57   \n",
       "\n",
       "        3_quarter_2019_flat_price  4_quarter_2019_flat_price  \\\n",
       "178256                  198230.93                  203189.99   \n",
       "145463                   88683.23                   88486.09   \n",
       "167127                   56312.96                   58709.50   \n",
       "255015                   51935.13                   52551.61   \n",
       "185642                  198230.93                  203189.99   \n",
       "\n",
       "        1_quarter_2020_flat_price  salary_per_life_min  min_month_food_price  \\\n",
       "178256                  214278.63                543.3               4985.73   \n",
       "145463                   88422.63                436.1               4274.15   \n",
       "167127                   55764.86                360.2               4195.02   \n",
       "255015                   51820.01                336.5               4224.72   \n",
       "185642                  214278.63                543.3               4985.73   \n",
       "\n",
       "        price_building_materials_12_19  price_building_materials_01_20  \\\n",
       "178256                        24071.31                        26074.29   \n",
       "145463                        74054.98                        24762.03   \n",
       "167127                            0.00                       124523.24   \n",
       "255015                        39994.10                        41046.57   \n",
       "185642                        24071.31                        26074.29   \n",
       "\n",
       "        price_building_materials_02_20  price_building_materials_03_20  \\\n",
       "178256                        26909.85                        28079.74   \n",
       "145463                        20819.75                        13254.94   \n",
       "167127                        96488.59                            0.00   \n",
       "255015                        38598.94                            0.00   \n",
       "185642                        26909.85                        28079.74   \n",
       "\n",
       "        floor_cor  \n",
       "178256          1  \n",
       "145463         -1  \n",
       "167127          0  \n",
       "255015          1  \n",
       "185642          0  "
      ]
     },
     "execution_count": 138,
     "metadata": {},
     "output_type": "execute_result"
    }
   ],
   "source": [
    "X_train.head()"
   ]
  },
  {
   "cell_type": "code",
   "execution_count": 139,
   "metadata": {},
   "outputs": [],
   "source": [
    "model = CatBoostRegressor(n_estimators=1000, depth=7)"
   ]
  },
  {
   "cell_type": "code",
   "execution_count": 140,
   "metadata": {
    "scrolled": true
   },
   "outputs": [
    {
     "name": "stdout",
     "output_type": "stream",
     "text": [
      "Learning rate set to 0.101961\n"
     ]
    },
    {
     "ename": "KeyboardInterrupt",
     "evalue": "",
     "output_type": "error",
     "traceback": [
      "\u001b[0;31m---------------------------------------------------------------------------\u001b[0m",
      "\u001b[0;31mKeyboardInterrupt\u001b[0m                         Traceback (most recent call last)",
      "\u001b[0;32m<ipython-input-140-b1e5555b4517>\u001b[0m in \u001b[0;36m<module>\u001b[0;34m\u001b[0m\n\u001b[1;32m      1\u001b[0m \u001b[0mcat_features\u001b[0m \u001b[0;34m=\u001b[0m \u001b[0;34m[\u001b[0m\u001b[0;34m'region'\u001b[0m\u001b[0;34m,\u001b[0m \u001b[0;34m'city'\u001b[0m\u001b[0;34m,\u001b[0m \u001b[0;34m'realty_type'\u001b[0m\u001b[0;34m,\u001b[0m \u001b[0;34m'osm_city_nearest_name'\u001b[0m\u001b[0;34m,\u001b[0m \u001b[0;34m'street'\u001b[0m\u001b[0;34m]\u001b[0m\u001b[0;34m\u001b[0m\u001b[0;34m\u001b[0m\u001b[0m\n\u001b[0;32m----> 2\u001b[0;31m \u001b[0mmodel\u001b[0m\u001b[0;34m.\u001b[0m\u001b[0mfit\u001b[0m\u001b[0;34m(\u001b[0m\u001b[0mX\u001b[0m\u001b[0;34m=\u001b[0m\u001b[0mX_train\u001b[0m\u001b[0;34m,\u001b[0m \u001b[0my\u001b[0m\u001b[0;34m=\u001b[0m\u001b[0my_train\u001b[0m\u001b[0;34m,\u001b[0m \u001b[0mcat_features\u001b[0m\u001b[0;34m=\u001b[0m\u001b[0mcat_features\u001b[0m\u001b[0;34m,\u001b[0m \u001b[0mverbose\u001b[0m\u001b[0;34m=\u001b[0m\u001b[0;36m200\u001b[0m\u001b[0;34m)\u001b[0m\u001b[0;34m\u001b[0m\u001b[0;34m\u001b[0m\u001b[0m\n\u001b[0m",
      "\u001b[0;32m~/env/lib/python3.8/site-packages/catboost/core.py\u001b[0m in \u001b[0;36mfit\u001b[0;34m(self, X, y, cat_features, sample_weight, baseline, use_best_model, eval_set, verbose, logging_level, plot, column_description, verbose_eval, metric_period, silent, early_stopping_rounds, save_snapshot, snapshot_file, snapshot_interval, init_model)\u001b[0m\n\u001b[1;32m   4847\u001b[0m             \u001b[0mself\u001b[0m\u001b[0;34m.\u001b[0m\u001b[0m_check_is_regressor_loss\u001b[0m\u001b[0;34m(\u001b[0m\u001b[0mparams\u001b[0m\u001b[0;34m[\u001b[0m\u001b[0;34m'loss_function'\u001b[0m\u001b[0;34m]\u001b[0m\u001b[0;34m)\u001b[0m\u001b[0;34m\u001b[0m\u001b[0;34m\u001b[0m\u001b[0m\n\u001b[1;32m   4848\u001b[0m \u001b[0;34m\u001b[0m\u001b[0m\n\u001b[0;32m-> 4849\u001b[0;31m         return self._fit(X, y, cat_features, None, None, None, sample_weight, None, None, None, None, baseline,\n\u001b[0m\u001b[1;32m   4850\u001b[0m                          \u001b[0muse_best_model\u001b[0m\u001b[0;34m,\u001b[0m \u001b[0meval_set\u001b[0m\u001b[0;34m,\u001b[0m \u001b[0mverbose\u001b[0m\u001b[0;34m,\u001b[0m \u001b[0mlogging_level\u001b[0m\u001b[0;34m,\u001b[0m \u001b[0mplot\u001b[0m\u001b[0;34m,\u001b[0m \u001b[0mcolumn_description\u001b[0m\u001b[0;34m,\u001b[0m\u001b[0;34m\u001b[0m\u001b[0;34m\u001b[0m\u001b[0m\n\u001b[1;32m   4851\u001b[0m                          \u001b[0mverbose_eval\u001b[0m\u001b[0;34m,\u001b[0m \u001b[0mmetric_period\u001b[0m\u001b[0;34m,\u001b[0m \u001b[0msilent\u001b[0m\u001b[0;34m,\u001b[0m \u001b[0mearly_stopping_rounds\u001b[0m\u001b[0;34m,\u001b[0m\u001b[0;34m\u001b[0m\u001b[0;34m\u001b[0m\u001b[0m\n",
      "\u001b[0;32m~/env/lib/python3.8/site-packages/catboost/core.py\u001b[0m in \u001b[0;36m_fit\u001b[0;34m(self, X, y, cat_features, text_features, embedding_features, pairs, sample_weight, group_id, group_weight, subgroup_id, pairs_weight, baseline, use_best_model, eval_set, verbose, logging_level, plot, column_description, verbose_eval, metric_period, silent, early_stopping_rounds, save_snapshot, snapshot_file, snapshot_interval, init_model)\u001b[0m\n\u001b[1;32m   1804\u001b[0m \u001b[0;34m\u001b[0m\u001b[0m\n\u001b[1;32m   1805\u001b[0m         \u001b[0;32mwith\u001b[0m \u001b[0mlog_fixup\u001b[0m\u001b[0;34m(\u001b[0m\u001b[0;34m)\u001b[0m\u001b[0;34m,\u001b[0m \u001b[0mplot_wrapper\u001b[0m\u001b[0;34m(\u001b[0m\u001b[0mplot\u001b[0m\u001b[0;34m,\u001b[0m \u001b[0;34m[\u001b[0m\u001b[0m_get_train_dir\u001b[0m\u001b[0;34m(\u001b[0m\u001b[0mself\u001b[0m\u001b[0;34m.\u001b[0m\u001b[0mget_params\u001b[0m\u001b[0;34m(\u001b[0m\u001b[0;34m)\u001b[0m\u001b[0;34m)\u001b[0m\u001b[0;34m]\u001b[0m\u001b[0;34m)\u001b[0m\u001b[0;34m:\u001b[0m\u001b[0;34m\u001b[0m\u001b[0;34m\u001b[0m\u001b[0m\n\u001b[0;32m-> 1806\u001b[0;31m             self._train(\n\u001b[0m\u001b[1;32m   1807\u001b[0m                 \u001b[0mtrain_pool\u001b[0m\u001b[0;34m,\u001b[0m\u001b[0;34m\u001b[0m\u001b[0;34m\u001b[0m\u001b[0m\n\u001b[1;32m   1808\u001b[0m                 \u001b[0mtrain_params\u001b[0m\u001b[0;34m[\u001b[0m\u001b[0;34m\"eval_sets\"\u001b[0m\u001b[0;34m]\u001b[0m\u001b[0;34m,\u001b[0m\u001b[0;34m\u001b[0m\u001b[0;34m\u001b[0m\u001b[0m\n",
      "\u001b[0;32m~/env/lib/python3.8/site-packages/catboost/core.py\u001b[0m in \u001b[0;36m_train\u001b[0;34m(self, train_pool, test_pool, params, allow_clear_pool, init_model)\u001b[0m\n\u001b[1;32m   1256\u001b[0m \u001b[0;34m\u001b[0m\u001b[0m\n\u001b[1;32m   1257\u001b[0m     \u001b[0;32mdef\u001b[0m \u001b[0m_train\u001b[0m\u001b[0;34m(\u001b[0m\u001b[0mself\u001b[0m\u001b[0;34m,\u001b[0m \u001b[0mtrain_pool\u001b[0m\u001b[0;34m,\u001b[0m \u001b[0mtest_pool\u001b[0m\u001b[0;34m,\u001b[0m \u001b[0mparams\u001b[0m\u001b[0;34m,\u001b[0m \u001b[0mallow_clear_pool\u001b[0m\u001b[0;34m,\u001b[0m \u001b[0minit_model\u001b[0m\u001b[0;34m)\u001b[0m\u001b[0;34m:\u001b[0m\u001b[0;34m\u001b[0m\u001b[0;34m\u001b[0m\u001b[0m\n\u001b[0;32m-> 1258\u001b[0;31m         \u001b[0mself\u001b[0m\u001b[0;34m.\u001b[0m\u001b[0m_object\u001b[0m\u001b[0;34m.\u001b[0m\u001b[0m_train\u001b[0m\u001b[0;34m(\u001b[0m\u001b[0mtrain_pool\u001b[0m\u001b[0;34m,\u001b[0m \u001b[0mtest_pool\u001b[0m\u001b[0;34m,\u001b[0m \u001b[0mparams\u001b[0m\u001b[0;34m,\u001b[0m \u001b[0mallow_clear_pool\u001b[0m\u001b[0;34m,\u001b[0m \u001b[0minit_model\u001b[0m\u001b[0;34m.\u001b[0m\u001b[0m_object\u001b[0m \u001b[0;32mif\u001b[0m \u001b[0minit_model\u001b[0m \u001b[0;32melse\u001b[0m \u001b[0;32mNone\u001b[0m\u001b[0;34m)\u001b[0m\u001b[0;34m\u001b[0m\u001b[0;34m\u001b[0m\u001b[0m\n\u001b[0m\u001b[1;32m   1259\u001b[0m         \u001b[0mself\u001b[0m\u001b[0;34m.\u001b[0m\u001b[0m_set_trained_model_attributes\u001b[0m\u001b[0;34m(\u001b[0m\u001b[0;34m)\u001b[0m\u001b[0;34m\u001b[0m\u001b[0;34m\u001b[0m\u001b[0m\n\u001b[1;32m   1260\u001b[0m \u001b[0;34m\u001b[0m\u001b[0m\n",
      "\u001b[0;32m_catboost.pyx\u001b[0m in \u001b[0;36m_catboost._CatBoost._train\u001b[0;34m()\u001b[0m\n",
      "\u001b[0;32m_catboost.pyx\u001b[0m in \u001b[0;36m_catboost._CatBoost._train\u001b[0;34m()\u001b[0m\n",
      "\u001b[0;31mKeyboardInterrupt\u001b[0m: "
     ]
    }
   ],
   "source": [
    "cat_features = ['region', 'city', 'realty_type', 'osm_city_nearest_name', 'street']\n",
    "model.fit(X=X_train, y=y_train, cat_features=cat_features, verbose=200)"
   ]
  },
  {
   "cell_type": "code",
   "execution_count": null,
   "metadata": {},
   "outputs": [],
   "source": [
    "y_pred = model.predict(X_test)\n",
    "mean_absolute_percentage_error(y_true=y_test, y_pred=y_pred)"
   ]
  },
  {
   "cell_type": "code",
   "execution_count": null,
   "metadata": {},
   "outputs": [],
   "source": []
  },
  {
   "cell_type": "markdown",
   "metadata": {},
   "source": [
    "### 2. Обучаем прогноз на ручных оценках"
   ]
  },
  {
   "cell_type": "code",
   "execution_count": null,
   "metadata": {},
   "outputs": [],
   "source": [
    "cities = pd.read_csv('../real-estate/data/df_test_v5.csv', compression='zip', usecols=['city'])['city'].unique().tolist()"
   ]
  },
  {
   "cell_type": "code",
   "execution_count": null,
   "metadata": {},
   "outputs": [],
   "source": [
    "df_train_bank = df_train_bank[df_train_bank['city'].isin(cities)]"
   ]
  },
  {
   "cell_type": "code",
   "execution_count": null,
   "metadata": {},
   "outputs": [],
   "source": [
    "X = df_train_bank.drop(columns=to_drop)\n",
    "y = df_train_bank[target]\n",
    "X_train, X_test, y_train, y_test = train_test_split(X, y, test_size=0.2, random_state=42)"
   ]
  },
  {
   "cell_type": "code",
   "execution_count": null,
   "metadata": {},
   "outputs": [],
   "source": [
    "X_train.head()"
   ]
  },
  {
   "cell_type": "code",
   "execution_count": null,
   "metadata": {},
   "outputs": [],
   "source": [
    "features = X_train.columns"
   ]
  },
  {
   "cell_type": "code",
   "execution_count": null,
   "metadata": {},
   "outputs": [],
   "source": [
    "modelb = CatBoostRegressor(n_estimators=1000, depth=7)"
   ]
  },
  {
   "cell_type": "code",
   "execution_count": null,
   "metadata": {},
   "outputs": [],
   "source": [
    "cat_features = ['region', 'city', 'realty_type', 'osm_city_nearest_name', 'street']\n",
    "modelb.fit(X=X_train, y=y_train, cat_features=cat_features, verbose=200)"
   ]
  },
  {
   "cell_type": "code",
   "execution_count": null,
   "metadata": {},
   "outputs": [],
   "source": [
    "y_pred = modelb.predict(X_test)\n",
    "mean_absolute_percentage_error(y_true=y_test, y_pred=y_pred)"
   ]
  },
  {
   "cell_type": "code",
   "execution_count": null,
   "metadata": {},
   "outputs": [],
   "source": []
  },
  {
   "cell_type": "markdown",
   "metadata": {},
   "source": [
    "### 3. Калибровка модели объявлений"
   ]
  },
  {
   "cell_type": "code",
   "execution_count": null,
   "metadata": {},
   "outputs": [],
   "source": [
    "h_pred = model.predict(df_train_bank.drop(to_drop, axis=1))"
   ]
  },
  {
   "cell_type": "code",
   "execution_count": null,
   "metadata": {},
   "outputs": [],
   "source": [
    "df_train_bank['predicted_price'] = h_pred"
   ]
  },
  {
   "cell_type": "code",
   "execution_count": null,
   "metadata": {},
   "outputs": [],
   "source": [
    "df_train_bank['delta_price'] = (df_train_bank['predicted_price'] - df_train_bank[target]) / df_train_bank[target]"
   ]
  },
  {
   "cell_type": "code",
   "execution_count": null,
   "metadata": {},
   "outputs": [],
   "source": [
    "df_train_bank['delta_price'].mean()"
   ]
  },
  {
   "cell_type": "markdown",
   "metadata": {},
   "source": [
    "##### Отклонения в зависимости от типа недвижимости"
   ]
  },
  {
   "cell_type": "code",
   "execution_count": null,
   "metadata": {},
   "outputs": [],
   "source": [
    "df_train_bank['realty_type'].unique()"
   ]
  },
  {
   "cell_type": "code",
   "execution_count": null,
   "metadata": {},
   "outputs": [],
   "source": [
    "df_train_bank[df_train_bank['realty_type'] == 10]['delta_price'].mean()"
   ]
  },
  {
   "cell_type": "code",
   "execution_count": null,
   "metadata": {},
   "outputs": [],
   "source": [
    "df_train_bank[df_train_bank['realty_type'] == 100]['delta_price'].mean()"
   ]
  },
  {
   "cell_type": "code",
   "execution_count": null,
   "metadata": {},
   "outputs": [],
   "source": [
    "df_train_bank[df_train_bank['realty_type'] == 110]['delta_price'].mean()"
   ]
  },
  {
   "cell_type": "code",
   "execution_count": null,
   "metadata": {},
   "outputs": [],
   "source": [
    "df_train_bank['city'].nunique()"
   ]
  },
  {
   "cell_type": "code",
   "execution_count": null,
   "metadata": {},
   "outputs": [],
   "source": [
    "df_train_bank['city'].value_counts()[:30]"
   ]
  },
  {
   "cell_type": "code",
   "execution_count": null,
   "metadata": {
    "scrolled": false
   },
   "outputs": [],
   "source": [
    "cities = df_train_bank['city'].value_counts()[:30]\n",
    "df_train_bank[df_train_bank['city'].isin(cities.keys())].groupby('city')['delta_price'].mean()"
   ]
  },
  {
   "cell_type": "code",
   "execution_count": null,
   "metadata": {},
   "outputs": [],
   "source": [
    "corr_dict = {}\n",
    "\n",
    "for city, count in df_train_bank['city'].value_counts()[:30].items():\n",
    "    price_real = df_train_bank[df_train_bank['city'] == city][target].values.mean()\n",
    "    price_predicted = df_train_bank[df_train_bank['city'] == city]['predicted_price'].values.mean()\n",
    "    price_delta = (price_predicted - price_real) / price_real\n",
    "#     print(city, count, price_real, price_predicted, price_delta)\n",
    "    corr_dict[city] = price_delta"
   ]
  },
  {
   "cell_type": "code",
   "execution_count": null,
   "metadata": {},
   "outputs": [],
   "source": [
    "corr_dict"
   ]
  },
  {
   "cell_type": "code",
   "execution_count": null,
   "metadata": {},
   "outputs": [],
   "source": [
    "realty_corr_dict = {}\n",
    "\n",
    "realty_corr_dict[10] = df_train_bank[df_train_bank['realty_type'] == 10]['delta_price'].mean()\n",
    "realty_corr_dict[100] = df_train_bank[df_train_bank['realty_type'] == 100]['delta_price'].mean()\n",
    "realty_corr_dict[110] = df_train_bank[df_train_bank['realty_type'] == 110]['delta_price'].mean()"
   ]
  },
  {
   "cell_type": "code",
   "execution_count": null,
   "metadata": {},
   "outputs": [],
   "source": [
    "realty_corr_dict"
   ]
  },
  {
   "cell_type": "markdown",
   "metadata": {},
   "source": [
    "### 4. Делаем прогноз на ручных оценках"
   ]
  },
  {
   "cell_type": "code",
   "execution_count": null,
   "metadata": {},
   "outputs": [],
   "source": [
    "df_out = pd.read_csv('../real-estate/data/df_test_v5.csv', compression='zip')"
   ]
  },
  {
   "cell_type": "code",
   "execution_count": null,
   "metadata": {},
   "outputs": [],
   "source": [
    "df_out = df_out.drop(columns='Unnamed: 0')"
   ]
  },
  {
   "cell_type": "code",
   "execution_count": null,
   "metadata": {},
   "outputs": [],
   "source": [
    "df_out['floor_cor'] = df_out['floor'].fillna(0).apply(clear_floor).astype(int)\n",
    "\n",
    "df_out['street'] = df_out['street'].fillna('Unknown')\n",
    "df_out['region'] = df_out['region'].fillna('Unknown')\n",
    "df_out['city'] = df_out['city'].fillna('Unknown')\n",
    "df_out['realty_type'] = df_out['realty_type'].fillna('Unknown')\n",
    "df_out['osm_city_nearest_name'] = df_out['osm_city_nearest_name'].fillna('Unknown')"
   ]
  },
  {
   "cell_type": "code",
   "execution_count": null,
   "metadata": {},
   "outputs": [],
   "source": [
    "df_out.head()"
   ]
  },
  {
   "cell_type": "code",
   "execution_count": null,
   "metadata": {},
   "outputs": [],
   "source": [
    "def correct_prices(price, city, price_dict):\n",
    "    if city in price_dict:\n",
    "        return (1 - price_dict.get(city)) * price\n",
    "    else:\n",
    "        return price"
   ]
  },
  {
   "cell_type": "code",
   "execution_count": null,
   "metadata": {},
   "outputs": [],
   "source": [
    "def correct_prices_rtypes(price, rtype, price_dict):\n",
    "    if rtype in price_dict:\n",
    "        return (1 - price_dict.get(rtype)) * price\n",
    "    else:\n",
    "        return price"
   ]
  },
  {
   "cell_type": "code",
   "execution_count": null,
   "metadata": {},
   "outputs": [],
   "source": [
    "to_drop_2 = ['id', 'date', 'floor']"
   ]
  },
  {
   "cell_type": "code",
   "execution_count": null,
   "metadata": {},
   "outputs": [],
   "source": [
    "df_out.columns[15]"
   ]
  },
  {
   "cell_type": "code",
   "execution_count": null,
   "metadata": {},
   "outputs": [],
   "source": [
    "X_out = df_out.drop(columns=to_drop_2)[features]"
   ]
  },
  {
   "cell_type": "code",
   "execution_count": null,
   "metadata": {},
   "outputs": [],
   "source": [
    "df_out['predicted_rent'] = model.predict(X_out)"
   ]
  },
  {
   "cell_type": "code",
   "execution_count": null,
   "metadata": {},
   "outputs": [],
   "source": [
    "df_out['predicted_bank'] = modelb.predict(X_out)"
   ]
  },
  {
   "cell_type": "code",
   "execution_count": null,
   "metadata": {},
   "outputs": [],
   "source": [
    "df_out['predicted_rent_corr'] = df_out.apply(lambda x: correct_prices(price=x['predicted_rent'], \n",
    "                                                                      city=x['city'], \n",
    "                                                                      price_dict=corr_dict), axis=1)"
   ]
  },
  {
   "cell_type": "code",
   "execution_count": null,
   "metadata": {},
   "outputs": [],
   "source": [
    "df_out['predicted_rent_corr_type'] = df_out.apply(lambda x: correct_prices_rtypes(price=x['predicted_rent'], \n",
    "                                                                           rtype=x['realty_type'], \n",
    "                                                                           price_dict=realty_corr_dict), axis=1)"
   ]
  },
  {
   "cell_type": "code",
   "execution_count": null,
   "metadata": {},
   "outputs": [],
   "source": [
    "df_out[target] = df_out[['predicted_rent_corr_type', 'predicted_bank']].mean(axis=1)\n",
    "# df_out[target] = df_out[['predicted_rent_corr', 'predicted_bank']].mean(axis=1)\n",
    "# df_out[target] = df_out[['predicted_rent', 'predicted_bank']].mean(axis=1)"
   ]
  },
  {
   "cell_type": "code",
   "execution_count": null,
   "metadata": {},
   "outputs": [],
   "source": [
    "df_out[['id', 'predicted_rent', 'predicted_bank', 'predicted_rent_corr', 'predicted_rent_corr_type', target]].head()"
   ]
  },
  {
   "cell_type": "code",
   "execution_count": null,
   "metadata": {},
   "outputs": [],
   "source": [
    "df_out.shape[0]"
   ]
  },
  {
   "cell_type": "code",
   "execution_count": null,
   "metadata": {},
   "outputs": [],
   "source": [
    "df_out[target] = df_out[target].apply(lambda x: 0.9 * x if x >= 200000 else x)"
   ]
  },
  {
   "cell_type": "code",
   "execution_count": null,
   "metadata": {},
   "outputs": [],
   "source": [
    "df_out[['id', target]].to_csv('out_v6_rtype2.csv', index=False)"
   ]
  },
  {
   "cell_type": "code",
   "execution_count": null,
   "metadata": {},
   "outputs": [],
   "source": [
    "# df_out[['id', 'predicted_bank']].to_csv('out_v6_bank.csv', index=False)"
   ]
  },
  {
   "cell_type": "code",
   "execution_count": null,
   "metadata": {},
   "outputs": [],
   "source": []
  }
 ],
 "metadata": {
  "kernelspec": {
   "display_name": "Python 3",
   "language": "python",
   "name": "python3"
  },
  "language_info": {
   "codemirror_mode": {
    "name": "ipython",
    "version": 3
   },
   "file_extension": ".py",
   "mimetype": "text/x-python",
   "name": "python",
   "nbconvert_exporter": "python",
   "pygments_lexer": "ipython3",
   "version": "3.8.5"
  }
 },
 "nbformat": 4,
 "nbformat_minor": 4
}
