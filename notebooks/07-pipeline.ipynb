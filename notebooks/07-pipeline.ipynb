{
 "cells": [
  {
   "cell_type": "markdown",
   "id": "01724630-9e5b-4878-a37c-cbe5a4a27760",
   "metadata": {},
   "source": [
    "# PIPELINE"
   ]
  },
  {
   "cell_type": "code",
   "execution_count": 9,
   "id": "c1e28923-cebd-4593-8803-063c6c7f6d54",
   "metadata": {},
   "outputs": [],
   "source": [
    "import numpy as np\n",
    "import pandas as pd\n",
    "import zipfile\n",
    "import argparse\n",
    "import logging.config\n",
    "import typing\n",
    "import pickle\n",
    "import logging\n",
    "\n",
    "# from lightgbm import LGBMRegressor\n",
    "from catboost import CatBoostRegressor, Pool, cv\n",
    "from tqdm import tqdm\n",
    "from traceback import format_exc\n",
    "\n",
    "from sklearn.metrics import mean_absolute_percentage_error, r2_score, mean_squared_error\n",
    "from sklearn.base import BaseEstimator,TransformerMixin\n",
    "from sklearn.exceptions import NotFittedError\n",
    "from sklearn.compose import ColumnTransformer\n",
    "from sklearn.pipeline import Pipeline\n",
    "from sklearn.preprocessing import OneHotEncoder, StandardScaler, OrdinalEncoder\n",
    "from sklearn.exceptions import NotFittedError"
   ]
  },
  {
   "cell_type": "markdown",
   "id": "8481a491-10c8-477b-9ec2-88bd061fbea5",
   "metadata": {},
   "source": [
    "## Вспомогательные функции"
   ]
  },
  {
   "cell_type": "markdown",
   "id": "275a87c1-4c08-459d-92fe-f4999186293f",
   "metadata": {},
   "source": [
    "### Настройки "
   ]
  },
  {
   "cell_type": "code",
   "execution_count": 10,
   "id": "9578602b-4a8e-4f47-a6ea-d530834eb00c",
   "metadata": {},
   "outputs": [],
   "source": [
    "TARGET = 'per_square_meter_price'\n",
    "# признаки (или набор признаков), для которых применяем smoothed target encoding\n",
    "CATEGORICAL_STE_FEATURES = ['region', 'city', 'realty_type']\n",
    "\n",
    "# признаки, для которых применяем one hot encoding\n",
    "CATEGORICAL_OHE_FEATURES = []\n",
    "\n",
    "# численные признаки \n",
    "NUM_FEATURES = ['lat', 'lng', 'osm_amenity_points_in_0.001',\n",
    "       'osm_amenity_points_in_0.005', 'osm_amenity_points_in_0.0075',\n",
    "       'osm_amenity_points_in_0.01', 'osm_building_points_in_0.001',\n",
    "       'osm_building_points_in_0.005', 'osm_building_points_in_0.0075',\n",
    "       'osm_building_points_in_0.01', 'osm_catering_points_in_0.001',\n",
    "       'osm_catering_points_in_0.005', 'osm_catering_points_in_0.0075',\n",
    "       'osm_catering_points_in_0.01', 'osm_city_closest_dist',\n",
    "       'osm_city_nearest_population',\n",
    "       'osm_crossing_closest_dist', 'osm_crossing_points_in_0.001',\n",
    "       'osm_crossing_points_in_0.005', 'osm_crossing_points_in_0.0075',\n",
    "       'osm_crossing_points_in_0.01', 'osm_culture_points_in_0.001',\n",
    "       'osm_culture_points_in_0.005', 'osm_culture_points_in_0.0075',\n",
    "       'osm_culture_points_in_0.01', 'osm_finance_points_in_0.001',\n",
    "       'osm_finance_points_in_0.005', 'osm_finance_points_in_0.0075',\n",
    "       'osm_finance_points_in_0.01', 'osm_healthcare_points_in_0.005',\n",
    "       'osm_healthcare_points_in_0.0075', 'osm_healthcare_points_in_0.01',\n",
    "       'osm_historic_points_in_0.005', 'osm_historic_points_in_0.0075',\n",
    "       'osm_historic_points_in_0.01', 'osm_hotels_points_in_0.005',\n",
    "       'osm_hotels_points_in_0.0075', 'osm_hotels_points_in_0.01',\n",
    "       'osm_leisure_points_in_0.005', 'osm_leisure_points_in_0.0075',\n",
    "       'osm_leisure_points_in_0.01', 'osm_offices_points_in_0.001',\n",
    "       'osm_offices_points_in_0.005', 'osm_offices_points_in_0.0075',\n",
    "       'osm_offices_points_in_0.01', 'osm_shops_points_in_0.001',\n",
    "       'osm_shops_points_in_0.005', 'osm_shops_points_in_0.0075',\n",
    "       'osm_shops_points_in_0.01', 'osm_subway_closest_dist',\n",
    "       'osm_train_stop_closest_dist', 'osm_train_stop_points_in_0.005',\n",
    "       'osm_train_stop_points_in_0.0075', 'osm_train_stop_points_in_0.01',\n",
    "       'osm_transport_stop_closest_dist', 'osm_transport_stop_points_in_0.005',\n",
    "       'osm_transport_stop_points_in_0.0075',\n",
    "       'osm_transport_stop_points_in_0.01',\n",
    "       'reform_count_of_houses_1000', 'reform_count_of_houses_500',\n",
    "       'reform_house_population_1000', 'reform_house_population_500',\n",
    "       'reform_mean_floor_count_1000', 'reform_mean_floor_count_500',\n",
    "       'reform_mean_year_building_1000', 'reform_mean_year_building_500','total_square']\n",
    "\n",
    "MODEL_PARAMS = dict(\n",
    "            n_estimators=2000,\n",
    "            learning_rate=0.01,\n",
    "            reg_alpha=1,\n",
    "            num_leaves=40,\n",
    "            min_child_samples=5,\n",
    "            importance_type=\"gain\",\n",
    "            n_jobs=1,\n",
    "            random_state=563,\n",
    "        )\n",
    "\n",
    "LOGGING_CONFIG = {\n",
    "    \"version\": 1,\n",
    "    \"disable_existing_loggers\": False,\n",
    "    \"formatters\": {\n",
    "        \"default\": {\"format\": \"%(asctime)s %(name)-12s %(levelname)-8s %(message)s\"},\n",
    "    },\n",
    "    \"handlers\": {\n",
    "        \"file_handler\": {\n",
    "            \"level\": \"INFO\",\n",
    "            \"formatter\": \"default\",\n",
    "            \"class\": \"logging.FileHandler\",\n",
    "            \"filename\": 'train.log',\n",
    "            \"mode\": \"a\",\n",
    "        },\n",
    "    },\n",
    "    \"loggers\": {\n",
    "        \"\": {\"handlers\": [\"file_handler\"], \"level\": \"INFO\", \"propagate\": False},\n",
    "    },\n",
    "}"
   ]
  },
  {
   "cell_type": "markdown",
   "id": "8548f234-899d-40bf-b582-b6d0bb283f16",
   "metadata": {},
   "source": [
    "### Настройки (catboost)"
   ]
  },
  {
   "cell_type": "code",
   "execution_count": 11,
   "id": "9c1499ce-c2a4-40d4-9f84-d2caf39bcf4b",
   "metadata": {},
   "outputs": [],
   "source": [
    "TARGET = 'per_square_meter_price'\n",
    "# признаки (или набор признаков), для которых применяем smoothed target encoding\n",
    "CATEGORICAL_STE_FEATURES = ['region', 'city', 'realty_type']\n",
    "\n",
    "# признаки, для которых применяем one hot encoding\n",
    "CATEGORICAL_OHE_FEATURES = []\n",
    "\n",
    "# численные признаки\n",
    "NUM_FEATURES = ['lat', 'lng', 'osm_amenity_points_in_0.001',\n",
    "       'osm_amenity_points_in_0.005', 'osm_amenity_points_in_0.0075',\n",
    "       'osm_amenity_points_in_0.01', 'osm_building_points_in_0.001',\n",
    "       'osm_building_points_in_0.005', 'osm_building_points_in_0.0075',\n",
    "       'osm_building_points_in_0.01', 'osm_catering_points_in_0.001',\n",
    "       'osm_catering_points_in_0.005', 'osm_catering_points_in_0.0075',\n",
    "       'osm_catering_points_in_0.01', 'osm_city_closest_dist',\n",
    "       'osm_city_nearest_population',\n",
    "       'osm_crossing_closest_dist', 'osm_crossing_points_in_0.001',\n",
    "       'osm_crossing_points_in_0.005', 'osm_crossing_points_in_0.0075',\n",
    "       'osm_crossing_points_in_0.01', 'osm_culture_points_in_0.001',\n",
    "       'osm_culture_points_in_0.005', 'osm_culture_points_in_0.0075',\n",
    "       'osm_culture_points_in_0.01', 'osm_finance_points_in_0.001',\n",
    "       'osm_finance_points_in_0.005', 'osm_finance_points_in_0.0075',\n",
    "       'osm_finance_points_in_0.01', 'osm_healthcare_points_in_0.005',\n",
    "       'osm_healthcare_points_in_0.0075', 'osm_healthcare_points_in_0.01',\n",
    "       'osm_historic_points_in_0.005', 'osm_historic_points_in_0.0075',\n",
    "       'osm_historic_points_in_0.01', 'osm_hotels_points_in_0.005',\n",
    "       'osm_hotels_points_in_0.0075', 'osm_hotels_points_in_0.01',\n",
    "       'osm_leisure_points_in_0.005', 'osm_leisure_points_in_0.0075',\n",
    "       'osm_leisure_points_in_0.01', 'osm_offices_points_in_0.001',\n",
    "       'osm_offices_points_in_0.005', 'osm_offices_points_in_0.0075',\n",
    "       'osm_offices_points_in_0.01', 'osm_shops_points_in_0.001',\n",
    "       'osm_shops_points_in_0.005', 'osm_shops_points_in_0.0075',\n",
    "       'osm_shops_points_in_0.01', 'osm_subway_closest_dist',\n",
    "       'osm_train_stop_closest_dist', 'osm_train_stop_points_in_0.005',\n",
    "       'osm_train_stop_points_in_0.0075', 'osm_train_stop_points_in_0.01',\n",
    "       'osm_transport_stop_closest_dist', 'osm_transport_stop_points_in_0.005',\n",
    "       'osm_transport_stop_points_in_0.0075',\n",
    "       'osm_transport_stop_points_in_0.01',\n",
    "       'reform_count_of_houses_1000', 'reform_count_of_houses_500',\n",
    "       'reform_house_population_1000', 'reform_house_population_500',\n",
    "       'reform_mean_floor_count_1000', 'reform_mean_floor_count_500',\n",
    "       'reform_mean_year_building_1000', 'reform_mean_year_building_500','total_square', \n",
    "       'poi_n_r0.001', 'poi_n_bus_stop_r0.001', 'poi_n_cafe_r0.001', 'poi_n_supermarket_r0.001',\n",
    "       'poi_n_atm_r0.001', 'poi_n_bank_r0.001', 'poi_n_clothes_r0.001', 'poi_n_fast_food_r0.001',\n",
    "       'poi_n_hairdresser_r0.001', 'poi_n_restaurant_r0.001', 'poi_n_tram_stop_r0.001']\n",
    "\n",
    "MODEL_PARAMS = {\n",
    "    'depth': 8, \n",
    "    'verbose': 50,\n",
    "    'iterations': 1500,\n",
    "    'loss_function': 'RMSE',\n",
    "    'eval_metric': 'R2',\n",
    "    'learning_rate': 0.15,\n",
    "    'random_state': 5\n",
    "}\n",
    "\n",
    "LOGGING_CONFIG = {\n",
    "    \"version\": 1,\n",
    "    \"disable_existing_loggers\": False,\n",
    "    \"formatters\": {\n",
    "        \"default\": {\"format\": \"%(asctime)s %(name)-12s %(levelname)-8s %(message)s\"},\n",
    "    },\n",
    "    \"handlers\": {\n",
    "        \"file_handler\": {\n",
    "            \"level\": \"INFO\",\n",
    "            \"formatter\": \"default\",\n",
    "            \"class\": \"logging.FileHandler\",\n",
    "            \"filename\": 'train.log',\n",
    "            \"mode\": \"a\",\n",
    "        },\n",
    "    },\n",
    "    \"loggers\": {\n",
    "        \"\": {\"handlers\": [\"file_handler\"], \"level\": \"INFO\", \"propagate\": False},\n",
    "    },\n",
    "}"
   ]
  },
  {
   "cell_type": "markdown",
   "id": "c4bf5b76-6bcb-4ccd-9cda-804778a2affd",
   "metadata": {},
   "source": [
    "### Метрики"
   ]
  },
  {
   "cell_type": "code",
   "execution_count": 12,
   "id": "833775a9-4487-4e36-a616-9242a9345f1a",
   "metadata": {},
   "outputs": [],
   "source": [
    "THRESHOLD = 0.15\n",
    "NEGATIVE_WEIGHT = 1.1\n",
    "EPS = 1e-8\n",
    "\n",
    "def deviation_metric_one_sample(y_true: typing.Union[float, int], y_pred: typing.Union[float, int]) -> float:\n",
    "    \"\"\"\n",
    "    Реализация кастомной метрики для хакатона.\n",
    "\n",
    "    :param y_true: float, реальная цена\n",
    "    :param y_pred: float, предсказанная цена\n",
    "    :return: float, значение метрики\n",
    "    \"\"\"\n",
    "    deviation = (y_pred - y_true) / np.maximum(1e-8, y_true)\n",
    "    if np.abs(deviation) <= THRESHOLD:\n",
    "        return 0\n",
    "    elif deviation <= - 4 * THRESHOLD:\n",
    "        return 9 * NEGATIVE_WEIGHT\n",
    "    elif deviation < -THRESHOLD:\n",
    "        return NEGATIVE_WEIGHT * ((deviation / THRESHOLD) + 1) ** 2\n",
    "    elif deviation < 4 * THRESHOLD:\n",
    "        return ((deviation / THRESHOLD) - 1) ** 2\n",
    "    else:\n",
    "        return 9\n",
    "\n",
    "\n",
    "def deviation_metric(y_true: np.array, y_pred: np.array) -> float:\n",
    "    return np.array([deviation_metric_one_sample(y_true[n], y_pred[n]) for n in range(len(y_true))]).mean()\n",
    "\n",
    "def median_absolute_percentage_error(y_true: np.array, y_pred: np.array) -> float:\n",
    "    return np.median(np.abs(y_pred-y_true)/y_true)\n",
    "\n",
    "def metrics_stat(y_true: np.array, y_pred: np.array) -> typing.Dict[str,float]:\n",
    "    mape = mean_absolute_percentage_error(y_true, y_pred)\n",
    "    mdape = median_absolute_percentage_error(y_true, y_pred)\n",
    "    rmse = mean_squared_error(y_true, y_pred, squared=False)\n",
    "    r2 = r2_score(y_true, y_pred)\n",
    "    raif_metric = deviation_metric(y_true, y_pred)\n",
    "    return {'mape':mape, 'mdape':mdape, 'rmse': rmse, 'r2': r2, 'raif_metric':raif_metric}"
   ]
  },
  {
   "cell_type": "markdown",
   "id": "965079b4-397b-44d3-b7f0-61489e1d7cd3",
   "metadata": {},
   "source": [
    "### Utils"
   ]
  },
  {
   "cell_type": "code",
   "execution_count": 13,
   "id": "5383d38b-958d-4b9c-bbe7-fb26a3550525",
   "metadata": {},
   "outputs": [],
   "source": [
    "from enum  import IntEnum\n",
    "\n",
    "UNKNOWN_VALUE = 'missing'\n",
    "\n",
    "class PriceTypeEnum(IntEnum):\n",
    "    OFFER_PRICE = 0 # цена из объявления\n",
    "    MANUAL_PRICE = 1 # цена, полученная путем ручной оценки"
   ]
  },
  {
   "cell_type": "markdown",
   "id": "65367566-0b9f-41c3-8be8-e9b52fde3dbe",
   "metadata": {},
   "source": [
    "### Features"
   ]
  },
  {
   "cell_type": "code",
   "execution_count": 14,
   "id": "280faf96-e88d-44b0-b81c-4e6c4af73eea",
   "metadata": {},
   "outputs": [],
   "source": [
    "def prepare_categorical(df: pd.DataFrame) -> pd.DataFrame:\n",
    "    \"\"\"\n",
    "    Заполняет пропущенные категориальные переменные\n",
    "    :param df: dataframe, обучающая выборка\n",
    "    :return: dataframe\n",
    "    \"\"\"\n",
    "    df_new = df.copy()\n",
    "    fillna_cols = ['region','city','street','realty_type']\n",
    "    df_new[fillna_cols] = df_new[fillna_cols].fillna(UNKNOWN_VALUE)\n",
    "    return df_new"
   ]
  },
  {
   "cell_type": "markdown",
   "id": "5576c8a9-1738-45de-92d4-5ba14c4fdcf6",
   "metadata": {},
   "source": [
    "### Сохранение и загрузка модели"
   ]
  },
  {
   "cell_type": "code",
   "execution_count": 38,
   "id": "c0879b44-2321-4d63-b9fd-d38a5fe52db2",
   "metadata": {},
   "outputs": [],
   "source": [
    "def save_model(model, path: str):\n",
    "    with open(path, \"wb\") as f:\n",
    "        pickle.dump(model, f)\n",
    "        \n",
    "\n",
    "def load_model(path: str):\n",
    "    with open(path, \"rb\") as f:\n",
    "        model = pickle.load(f)\n",
    "    return model"
   ]
  },
  {
   "cell_type": "markdown",
   "id": "44198eae-0e84-4b78-a8eb-6de02c0dd0af",
   "metadata": {},
   "source": [
    "## Запуск"
   ]
  },
  {
   "cell_type": "markdown",
   "id": "6fb844ee-adec-402d-b45e-066ce5e12c41",
   "metadata": {},
   "source": [
    "### Запуск обучения"
   ]
  },
  {
   "cell_type": "code",
   "execution_count": 30,
   "id": "644686c6-9589-4324-a897-b3a350b45010",
   "metadata": {},
   "outputs": [],
   "source": [
    "path_to_train = '../data/df_train_with_poi.zip'\n",
    "path_to_test = '../data/df_test_with_poi.zip'\n",
    "path_to_save_model = '../models/test.pickle'\n",
    "\n",
    "zip_file = zipfile.ZipFile(path_to_train)\n",
    "train_df = pd.read_csv(zip_file.open(zip_file.namelist()[0]), low_memory=False)\n",
    "\n",
    "train_df = prepare_categorical(train_df)\n",
    "\n",
    "X_offer = train_df[train_df.price_type == PriceTypeEnum.OFFER_PRICE][NUM_FEATURES+CATEGORICAL_OHE_FEATURES+CATEGORICAL_STE_FEATURES]\n",
    "y_offer = train_df[train_df.price_type == PriceTypeEnum.OFFER_PRICE][TARGET]\n",
    "\n",
    "X_manual = train_df[train_df.price_type == PriceTypeEnum.MANUAL_PRICE][NUM_FEATURES+CATEGORICAL_OHE_FEATURES+CATEGORICAL_STE_FEATURES]\n",
    "y_manual = train_df[train_df.price_type == PriceTypeEnum.MANUAL_PRICE][TARGET]"
   ]
  },
  {
   "cell_type": "code",
   "execution_count": 31,
   "id": "6c5c3f80-96b6-44ce-b516-606eca7f5969",
   "metadata": {},
   "outputs": [],
   "source": [
    "model = CatBoostRegressor(**MODEL_PARAMS)"
   ]
  },
  {
   "cell_type": "code",
   "execution_count": 32,
   "id": "ec4a24df-64d5-4a3f-83d9-05f3f67879ba",
   "metadata": {},
   "outputs": [
    {
     "name": "stdout",
     "output_type": "stream",
     "text": [
      "0:\tlearn: 0.0951359\ttotal: 9.54ms\tremaining: 14.3s\n",
      "100:\tlearn: 0.8935422\ttotal: 1.35s\tremaining: 18.7s\n",
      "200:\tlearn: 0.9499715\ttotal: 2.73s\tremaining: 17.6s\n",
      "300:\tlearn: 0.9745466\ttotal: 4.1s\tremaining: 16.3s\n",
      "400:\tlearn: 0.9848386\ttotal: 5.51s\tremaining: 15.1s\n",
      "500:\tlearn: 0.9898728\ttotal: 6.9s\tremaining: 13.8s\n",
      "600:\tlearn: 0.9928901\ttotal: 9.57s\tremaining: 14.3s\n",
      "700:\tlearn: 0.9948977\ttotal: 12.3s\tremaining: 14.1s\n",
      "800:\tlearn: 0.9961051\ttotal: 15.7s\tremaining: 13.7s\n",
      "900:\tlearn: 0.9970410\ttotal: 18.4s\tremaining: 12.2s\n",
      "1000:\tlearn: 0.9977223\ttotal: 21.2s\tremaining: 10.6s\n",
      "1100:\tlearn: 0.9982029\ttotal: 24s\tremaining: 8.69s\n",
      "1200:\tlearn: 0.9985638\ttotal: 27.4s\tremaining: 6.82s\n",
      "1300:\tlearn: 0.9988123\ttotal: 30.3s\tremaining: 4.64s\n",
      "1400:\tlearn: 0.9990027\ttotal: 33.8s\tremaining: 2.39s\n",
      "1499:\tlearn: 0.9991592\ttotal: 36.8s\tremaining: 0us\n"
     ]
    },
    {
     "data": {
      "text/plain": [
       "<catboost.core.CatBoostRegressor at 0x7fcf1f8cf940>"
      ]
     },
     "execution_count": 32,
     "metadata": {},
     "output_type": "execute_result"
    }
   ],
   "source": [
    "model.fit(X_manual, y_manual, cat_features=CATEGORICAL_STE_FEATURES, verbose=100)"
   ]
  },
  {
   "cell_type": "code",
   "execution_count": 49,
   "id": "5e0f0405-391b-4cb3-8b5b-6aacf9729313",
   "metadata": {},
   "outputs": [
    {
     "name": "stdout",
     "output_type": "stream",
     "text": [
      "[100935.37258084  26337.04030716  77222.87033636 ...  38837.78311407\n",
      "  42758.67179338  40924.13013635]\n"
     ]
    }
   ],
   "source": [
    "# Save model\n",
    "save_model(model, path_to_save_model)\n",
    "\n",
    "predictions_offer = model.predict(X_offer)\n",
    "metrics = metrics_stat(y_offer.values, predictions_offer/(1+model.corr_coef)) # для обучающей выборки с ценами из объявлений смотрим качество без коэффициента\n",
    "print('Metrics stat for training data with offers prices:', metrics)\n",
    "\n",
    "predictions_manual = model.predict(X_manual)\n",
    "metrics = metrics_stat(y_manual.values, predictions_manual)\n",
    "print('Metrics stat for training data with manual prices:', metrics)"
   ]
  },
  {
   "cell_type": "code",
   "execution_count": 46,
   "id": "ee6b1830-bcae-4a38-ba80-10787e70398d",
   "metadata": {},
   "outputs": [
    {
     "name": "stdout",
     "output_type": "stream",
     "text": [
      "True\n",
      "True\n",
      "True\n",
      "True\n",
      "True\n",
      "True\n",
      "True\n",
      "True\n",
      "True\n"
     ]
    }
   ],
   "source": [
    "# тесты\n",
    "print(deviation_metric(np.array(y_manual.values),np.array(predictions_manual)) <= EPS)\n",
    "print(np.abs(deviation_metric(np.array(y_manual.values),np.array(predictions_manual))-1) <= EPS)\n",
    "print(np.abs(deviation_metric(np.array(y_manual.values),np.array(predictions_manual))-1*NEGATIVE_WEIGHT) <= EPS)\n",
    "print(np.abs(deviation_metric(np.array(y_manual.values),np.array(predictions_manual))-9) <= EPS)\n",
    "print(np.abs(deviation_metric(np.array(y_manual.values),np.array(predictions_manual))-9*NEGATIVE_WEIGHT) <= EPS)\n",
    "print(np.abs(deviation_metric(np.array(y_manual.values),np.array(predictions_manual)) - 85/45) <= EPS)"
   ]
  },
  {
   "cell_type": "markdown",
   "id": "f15ea6cb-deae-4e4d-9863-08fe30709f87",
   "metadata": {},
   "source": [
    "### Запуск предикта"
   ]
  },
  {
   "cell_type": "code",
   "execution_count": 34,
   "id": "275d4a8e-0894-436d-afd6-c0c4d7273675",
   "metadata": {},
   "outputs": [],
   "source": [
    "def parse_args():\n",
    "    parser = argparse.ArgumentParser(\n",
    "        description=\"\"\"-\"\"\",\n",
    "        formatter_class=argparse.RawTextHelpFormatter,\n",
    "    )\n",
    "\n",
    "    parser.add_argument(\"--test_data\", \"-d\", type=str, dest=\"d\", required=True, help=\"Путь до отложенной выборки\")\n",
    "    parser.add_argument(\"--model_path\", \"-mp\", type=str, dest=\"mp\", required=True,\n",
    "                        help=\"Пусть до сериализованной ML модели\")\n",
    "    parser.add_argument(\"--output\", \"-o\", type=str, dest=\"o\", required=True, help=\"Путь до выходного файла\")\n",
    "\n",
    "    return parser.parse_args()\n"
   ]
  },
  {
   "cell_type": "code",
   "execution_count": 43,
   "id": "98468b58-a150-46eb-b3e8-a01b3931b6c0",
   "metadata": {},
   "outputs": [],
   "source": [
    "try:\n",
    "    path_to_pickled_model = '../models/test.pickle'\n",
    "    path_to_test_data = '../data/df_test_with_poi.zip'\n",
    "\n",
    "    test_df = pd.read_csv(path_to_test_data, compression='zip')\n",
    "\n",
    "    test_df = prepare_categorical(test_df)\n",
    "\n",
    "\n",
    "    model = load_model(path_to_pickled_model)\n",
    "\n",
    "    test_df['per_square_meter_price'] = model.predict(test_df[NUM_FEATURES+CATEGORICAL_OHE_FEATURES+CATEGORICAL_STE_FEATURES])\n",
    "\n",
    "    test_df[['id','per_square_meter_price']].to_csv(index=False)\n",
    "except Exception as e:\n",
    "    print('ERROR')\n"
   ]
  }
 ],
 "metadata": {
  "kernelspec": {
   "display_name": "Python 3",
   "language": "python",
   "name": "python3"
  },
  "language_info": {
   "codemirror_mode": {
    "name": "ipython",
    "version": 3
   },
   "file_extension": ".py",
   "mimetype": "text/x-python",
   "name": "python",
   "nbconvert_exporter": "python",
   "pygments_lexer": "ipython3",
   "version": "3.8.10"
  }
 },
 "nbformat": 4,
 "nbformat_minor": 5
}
