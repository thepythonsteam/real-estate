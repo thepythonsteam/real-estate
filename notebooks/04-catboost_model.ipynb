{
 "cells": [
  {
   "cell_type": "markdown",
   "id": "710a04ad-6274-4a31-8019-4163de0a5a91",
   "metadata": {},
   "source": [
    "# Предсказание стоимости недвижимости "
   ]
  },
  {
   "cell_type": "markdown",
   "id": "ece8f173-f30d-41ae-beb1-82cd0f94532a",
   "metadata": {},
   "source": [
    "### Загрузка библиотек"
   ]
  },
  {
   "cell_type": "code",
   "execution_count": 10,
   "id": "889c1921-6722-4b29-becb-c8adf31c4663",
   "metadata": {},
   "outputs": [],
   "source": [
    "import pandas as pd\n",
    "import zipfile\n",
    "import matplotlib.pyplot as plt\n",
    "import seaborn as sns\n",
    "from sklearn.model_selection import cross_val_score, train_test_split\n",
    "from sklearn.metrics import r2_score, mean_absolute_error, mean_squared_error, mean_absolute_percentage_error\n",
    "from catboost import CatBoostRegressor, Pool, cv\n",
    "import numpy as np\n",
    "\n",
    "from sklearn.model_selection import KFold\n",
    "from sklearn.feature_selection import RFECV\n",
    "\n",
    "from sklearn.linear_model import LinearRegression\n",
    "from sklearn.preprocessing import StandardScaler\n",
    "\n",
    "import pickle\n",
    "\n",
    "state = 5"
   ]
  },
  {
   "cell_type": "markdown",
   "id": "0afb201e-eabe-4b36-9c7c-d9e59ebcf360",
   "metadata": {},
   "source": [
    "### Загрузка данных"
   ]
  },
  {
   "cell_type": "code",
   "execution_count": 5,
   "id": "2d14e1e7-ce29-4772-9774-21472a18f56c",
   "metadata": {},
   "outputs": [
    {
     "name": "stderr",
     "output_type": "stream",
     "text": [
      "/Library/Frameworks/Python.framework/Versions/3.8/lib/python3.8/site-packages/IPython/core/interactiveshell.py:3441: DtypeWarning: Columns (1) have mixed types.Specify dtype option on import or set low_memory=False.\n",
      "  exec(code_obj, self.user_global_ns, self.user_ns)\n"
     ]
    }
   ],
   "source": [
    "path_to_train = '../data/train.csv.zip'\n",
    "zip_file = zipfile.ZipFile(path_to_train)\n",
    "train_df = pd.read_csv(zip_file.open(zip_file.namelist()[0]))\n",
    "\n",
    "path_to_test = '../data/train.csv.zip'\n",
    "zip_file = zipfile.ZipFile(path_to_test)\n",
    "test_df = pd.read_csv(zip_file.open(zip_file.namelist()[0]))"
   ]
  },
  {
   "cell_type": "code",
   "execution_count": null,
   "id": "38d3e05d-cf0c-45bb-9acf-6eb001880d97",
   "metadata": {},
   "outputs": [],
   "source": [
    "X_train = \n",
    "Y_train = \n",
    "\n",
    "X_test = \n",
    "Y_test = "
   ]
  },
  {
   "cell_type": "code",
   "execution_count": 6,
   "id": "e72ef39d-618f-4df8-8453-19dfa49967cd",
   "metadata": {},
   "outputs": [],
   "source": [
    "# перенести свой список\n",
    "top_features = [\n",
    "    'sqr_total',\n",
    "    'longitude',\n",
    "    'city',\n",
    "    'region',\n",
    "]"
   ]
  },
  {
   "cell_type": "code",
   "execution_count": 9,
   "id": "83c06820-4f04-458e-840e-5ca97b937fde",
   "metadata": {},
   "outputs": [],
   "source": [
    "# выставить параметры\n",
    "cat_features = []\n",
    "iterations = \n",
    "params = {\n",
    "    'depth': 8, \n",
    "    'verbose': 50,\n",
    "    'iterations': iterations,\n",
    "    'loss_function': 'RMSE',\n",
    "    'eval_metric': 'R2',\n",
    "    'learning_rate': 0.15,\n",
    "    'random_state': state\n",
    "}"
   ]
  },
  {
   "cell_type": "code",
   "execution_count": null,
   "id": "79de9258-4bad-40f9-8d99-e8975cc37fb0",
   "metadata": {},
   "outputs": [],
   "source": [
    "model = CatBoostRegressor(**params)\n",
    "model.fit(X_train[top_features], y_train, cat_features=cat_features, verbose=100, early_stopping_rounds=100)"
   ]
  },
  {
   "cell_type": "code",
   "execution_count": null,
   "id": "4656f45d-59d0-4f1b-9598-047c2adf14cd",
   "metadata": {},
   "outputs": [],
   "source": [
    "test_predictions = model.predict(X_test[top_features])"
   ]
  },
  {
   "cell_type": "code",
   "execution_count": null,
   "id": "82af63f1-b771-49e6-a6b6-6f15257be2a4",
   "metadata": {},
   "outputs": [],
   "source": [
    "print(r2_score(y_true=y_test, y_pred=test_predictions))\n",
    "print(mean_absolute_error(y_true=y_test, y_pred=test_predictions))\n",
    "print(mean_absolute_percentage_error(y_true=y_test, y_pred=test_predictions))\n",
    "# + метрики райфа"
   ]
  }
 ],
 "metadata": {
  "kernelspec": {
   "display_name": "Python 3 (ipykernel)",
   "language": "python",
   "name": "python3"
  },
  "language_info": {
   "codemirror_mode": {
    "name": "ipython",
    "version": 3
   },
   "file_extension": ".py",
   "mimetype": "text/x-python",
   "name": "python",
   "nbconvert_exporter": "python",
   "pygments_lexer": "ipython3",
   "version": "3.8.2"
  }
 },
 "nbformat": 4,
 "nbformat_minor": 5
}
